{
 "cells": [
  {
   "cell_type": "code",
   "execution_count": null,
   "metadata": {},
   "outputs": [
    {
     "name": "stdout",
     "output_type": "stream",
     "text": [
      "[{'Truck Number': 1, 'pallets': [{'TLMD': 31, 'FDEG': 2, 'UPSN': 1, 'USPS': 12, 'FDE': 0}, {'TLMD': 40, 'FDEG': 3, 'UPSN': 4, 'USPS': 18, 'FDE': 0}, {'TLMD': 28, 'FDEG': 7, 'UPSN': 2, 'USPS': 14, 'FDE': 0}, {'TLMD': 31, 'FDEG': 3, 'UPSN': 0, 'USPS': 10, 'FDE': 0}, {'TLMD': 25, 'FDEG': 8, 'UPSN': 5, 'USPS': 15, 'FDE': 0}, {'TLMD': 21, 'FDEG': 8, 'UPSN': 1, 'USPS': 8, 'FDE': 0}, {'TLMD': 25, 'FDEG': 13, 'UPSN': 1, 'USPS': 9, 'FDE': 0}, {'TLMD': 35, 'FDEG': 17, 'UPSN': 0, 'USPS': 17, 'FDE': 0}]}, {'Truck Number': 2, 'pallets': [{'TLMD': 32, 'FDEG': 10, 'UPSN': 0, 'USPS': 16, 'FDE': 0}, {'TLMD': 36, 'FDEG': 7, 'UPSN': 3, 'USPS': 8, 'FDE': 0}, {'TLMD': 29, 'FDEG': 8, 'UPSN': 3, 'USPS': 14, 'FDE': 0}, {'TLMD': 34, 'FDEG': 10, 'UPSN': 2, 'USPS': 10, 'FDE': 0}, {'TLMD': 42, 'FDEG': 5, 'UPSN': 0, 'USPS': 15, 'FDE': 0}, {'TLMD': 36, 'FDEG': 3, 'UPSN': 4, 'USPS': 10, 'FDE': 0}, {'TLMD': 34, 'FDEG': 3, 'UPSN': 1, 'USPS': 13, 'FDE': 0}, {'TLMD': 29, 'FDEG': 11, 'UPSN': 7, 'USPS': 11, 'FDE': 0}, {'TLMD': 36, 'FDEG': 12, 'UPSN': 0, 'USPS': 9, 'FDE': 0}, {'TLMD': 40, 'FDEG': 10, 'UPSN': 1, 'USPS': 14, 'FDE': 0}, {'TLMD': 33, 'FDEG': 3, 'UPSN': 2, 'USPS': 17, 'FDE': 0}]}, {'Truck Number': 3, 'pallets': [{'TLMD': 28, 'FDEG': 4, 'UPSN': 2, 'USPS': 13, 'FDE': 0}, {'TLMD': 32, 'FDEG': 13, 'UPSN': 2, 'USPS': 13, 'FDE': 0}, {'TLMD': 20, 'FDEG': 14, 'UPSN': 3, 'USPS': 15, 'FDE': 2}, {'TLMD': 26, 'FDEG': 9, 'UPSN': 1, 'USPS': 9, 'FDE': 0}, {'TLMD': 30, 'FDEG': 7, 'UPSN': 4, 'USPS': 15, 'FDE': 0}, {'TLMD': 33, 'FDEG': 13, 'UPSN': 2, 'USPS': 13, 'FDE': 0}, {'TLMD': 34, 'FDEG': 5, 'UPSN': 1, 'USPS': 9, 'FDE': 0}, {'TLMD': 43, 'FDEG': 11, 'UPSN': 3, 'USPS': 6, 'FDE': 0}, {'TLMD': 21, 'FDEG': 9, 'UPSN': 0, 'USPS': 11, 'FDE': 1}, {'TLMD': 34, 'FDEG': 11, 'UPSN': 3, 'USPS': 8, 'FDE': 1}, {'TLMD': 32, 'FDEG': 9, 'UPSN': 3, 'USPS': 14, 'FDE': 0}, {'TLMD': 32, 'FDEG': 8, 'UPSN': 3, 'USPS': 17, 'FDE': 0}]}, {'Truck Number': 4, 'pallets': [{'TLMD': 37, 'FDEG': 16, 'UPSN': 6, 'USPS': 15, 'FDE': 0}, {'TLMD': 34, 'FDEG': 10, 'UPSN': 1, 'USPS': 8, 'FDE': 0}, {'TLMD': 30, 'FDEG': 9, 'UPSN': 3, 'USPS': 11, 'FDE': 0}, {'TLMD': 38, 'FDEG': 9, 'UPSN': 2, 'USPS': 7, 'FDE': 0}, {'TLMD': 37, 'FDEG': 12, 'UPSN': 3, 'USPS': 15, 'FDE': 0}, {'TLMD': 22, 'FDEG': 11, 'UPSN': 1, 'USPS': 13, 'FDE': 0}, {'TLMD': 25, 'FDEG': 7, 'UPSN': 2, 'USPS': 14, 'FDE': 0}, {'TLMD': 32, 'FDEG': 6, 'UPSN': 3, 'USPS': 8, 'FDE': 0}, {'TLMD': 32, 'FDEG': 7, 'UPSN': 5, 'USPS': 12, 'FDE': 0}]}, {'Truck Number': 5, 'pallets': [{'TLMD': 40, 'FDEG': 9, 'UPSN': 3, 'USPS': 16, 'FDE': 1}, {'TLMD': 50, 'FDEG': 14, 'UPSN': 4, 'USPS': 12, 'FDE': 0}, {'TLMD': 30, 'FDEG': 4, 'UPSN': 4, 'USPS': 18, 'FDE': 0}, {'TLMD': 36, 'FDEG': 7, 'UPSN': 1, 'USPS': 15, 'FDE': 0}, {'TLMD': 39, 'FDEG': 5, 'UPSN': 4, 'USPS': 11, 'FDE': 0}, {'TLMD': 30, 'FDEG': 11, 'UPSN': 5, 'USPS': 19, 'FDE': 1}, {'TLMD': 40, 'FDEG': 14, 'UPSN': 0, 'USPS': 15, 'FDE': 0}, {'TLMD': 31, 'FDEG': 10, 'UPSN': 2, 'USPS': 14, 'FDE': 0}, {'TLMD': 39, 'FDEG': 6, 'UPSN': 0, 'USPS': 11, 'FDE': 0}]}, {'Truck Number': 6, 'pallets': [{'TLMD': 39, 'FDEG': 10, 'UPSN': 3, 'USPS': 10, 'FDE': 0}, {'TLMD': 27, 'FDEG': 7, 'UPSN': 3, 'USPS': 16, 'FDE': 0}, {'TLMD': 34, 'FDEG': 8, 'UPSN': 0, 'USPS': 17, 'FDE': 0}, {'TLMD': 29, 'FDEG': 12, 'UPSN': 2, 'USPS': 14, 'FDE': 0}, {'TLMD': 43, 'FDEG': 11, 'UPSN': 2, 'USPS': 10, 'FDE': 0}, {'TLMD': 37, 'FDEG': 11, 'UPSN': 1, 'USPS': 16, 'FDE': 0}, {'TLMD': 42, 'FDEG': 11, 'UPSN': 1, 'USPS': 13, 'FDE': 0}, {'TLMD': 41, 'FDEG': 13, 'UPSN': 4, 'USPS': 9, 'FDE': 0}, {'TLMD': 27, 'FDEG': 15, 'UPSN': 5, 'USPS': 7, 'FDE': 0}, {'TLMD': 41, 'FDEG': 8, 'UPSN': 3, 'USPS': 14, 'FDE': 0}]}, {'Truck Number': 7, 'pallets': [{'TLMD': 40, 'FDEG': 5, 'UPSN': 4, 'USPS': 18, 'FDE': 0}, {'TLMD': 28, 'FDEG': 11, 'UPSN': 1, 'USPS': 10, 'FDE': 0}, {'TLMD': 50, 'FDEG': 7, 'UPSN': 1, 'USPS': 10, 'FDE': 0}, {'TLMD': 17, 'FDEG': 8, 'UPSN': 0, 'USPS': 18, 'FDE': 0}]}, {'Truck Number': 8, 'pallets': [{'TLMD': 28, 'FDEG': 11, 'UPSN': 1, 'USPS': 13, 'FDE': 0}, {'TLMD': 34, 'FDEG': 7, 'UPSN': 2, 'USPS': 16, 'FDE': 0}, {'TLMD': 24, 'FDEG': 11, 'UPSN': 1, 'USPS': 12, 'FDE': 0}, {'TLMD': 37, 'FDEG': 8, 'UPSN': 3, 'USPS': 14, 'FDE': 0}, {'TLMD': 26, 'FDEG': 10, 'UPSN': 1, 'USPS': 11, 'FDE': 1}, {'TLMD': 27, 'FDEG': 6, 'UPSN': 1, 'USPS': 9, 'FDE': 0}, {'TLMD': 45, 'FDEG': 11, 'UPSN': 0, 'USPS': 16, 'FDE': 0}, {'TLMD': 21, 'FDEG': 7, 'UPSN': 1, 'USPS': 16, 'FDE': 0}, {'TLMD': 35, 'FDEG': 8, 'UPSN': 0, 'USPS': 11, 'FDE': 1}, {'TLMD': 46, 'FDEG': 9, 'UPSN': 2, 'USPS': 13, 'FDE': 0}, {'TLMD': 38, 'FDEG': 9, 'UPSN': 2, 'USPS': 13, 'FDE': 0}, {'TLMD': 28, 'FDEG': 14, 'UPSN': 7, 'USPS': 14, 'FDE': 0}, {'TLMD': 29, 'FDEG': 8, 'UPSN': 2, 'USPS': 19, 'FDE': 0}]}, {'Truck Number': 9, 'pallets': [{'TLMD': 31, 'FDEG': 6, 'UPSN': 3, 'USPS': 13, 'FDE': 0}, {'TLMD': 37, 'FDEG': 10, 'UPSN': 1, 'USPS': 23, 'FDE': 0}, {'TLMD': 31, 'FDEG': 10, 'UPSN': 3, 'USPS': 19, 'FDE': 0}, {'TLMD': 34, 'FDEG': 9, 'UPSN': 3, 'USPS': 8, 'FDE': 0}, {'TLMD': 36, 'FDEG': 9, 'UPSN': 1, 'USPS': 12, 'FDE': 0}, {'TLMD': 32, 'FDEG': 11, 'UPSN': 1, 'USPS': 9, 'FDE': 0}, {'TLMD': 36, 'FDEG': 12, 'UPSN': 5, 'USPS': 12, 'FDE': 0}, {'TLMD': 47, 'FDEG': 13, 'UPSN': 1, 'USPS': 14, 'FDE': 2}, {'TLMD': 39, 'FDEG': 8, 'UPSN': 4, 'USPS': 19, 'FDE': 0}, {'TLMD': 40, 'FDEG': 8, 'UPSN': 4, 'USPS': 13, 'FDE': 0}, {'TLMD': 42, 'FDEG': 18, 'UPSN': 4, 'USPS': 11, 'FDE': 0}, {'TLMD': 31, 'FDEG': 8, 'UPSN': 5, 'USPS': 18, 'FDE': 0}]}, {'Truck Number': 10, 'pallets': [{'TLMD': 43, 'FDEG': 15, 'UPSN': 4, 'USPS': 15, 'FDE': 0}, {'TLMD': 39, 'FDEG': 8, 'UPSN': 4, 'USPS': 16, 'FDE': 0}, {'TLMD': 48, 'FDEG': 12, 'UPSN': 5, 'USPS': 14, 'FDE': 0}, {'TLMD': 47, 'FDEG': 13, 'UPSN': 4, 'USPS': 13, 'FDE': 0}, {'TLMD': 31, 'FDEG': 13, 'UPSN': 3, 'USPS': 10, 'FDE': 1}, {'TLMD': 43, 'FDEG': 14, 'UPSN': 1, 'USPS': 15, 'FDE': 0}, {'TLMD': 32, 'FDEG': 18, 'UPSN': 5, 'USPS': 14, 'FDE': 0}, {'TLMD': 43, 'FDEG': 5, 'UPSN': 2, 'USPS': 10, 'FDE': 0}, {'TLMD': 44, 'FDEG': 18, 'UPSN': 2, 'USPS': 15, 'FDE': 0}, {'TLMD': 32, 'FDEG': 20, 'UPSN': 3, 'USPS': 17, 'FDE': 0}, {'TLMD': 38, 'FDEG': 13, 'UPSN': 7, 'USPS': 12, 'FDE': 0}, {'TLMD': 45, 'FDEG': 11, 'UPSN': 7, 'USPS': 15, 'FDE': 0}, {'TLMD': 43, 'FDEG': 13, 'UPSN': 5, 'USPS': 18, 'FDE': 0}]}, {'Truck Number': 11, 'pallets': [{'TLMD': 31, 'FDEG': 8, 'UPSN': 3, 'USPS': 9, 'FDE': 0}, {'TLMD': 30, 'FDEG': 4, 'UPSN': 5, 'USPS': 5, 'FDE': 0}, {'TLMD': 33, 'FDEG': 13, 'UPSN': 2, 'USPS': 12, 'FDE': 0}, {'TLMD': 34, 'FDEG': 3, 'UPSN': 3, 'USPS': 18, 'FDE': 0}, {'TLMD': 36, 'FDEG': 9, 'UPSN': 2, 'USPS': 13, 'FDE': 0}, {'TLMD': 39, 'FDEG': 10, 'UPSN': 3, 'USPS': 13, 'FDE': 0}, {'TLMD': 36, 'FDEG': 11, 'UPSN': 1, 'USPS': 14, 'FDE': 0}, {'TLMD': 34, 'FDEG': 18, 'UPSN': 2, 'USPS': 14, 'FDE': 0}, {'TLMD': 36, 'FDEG': 9, 'UPSN': 3, 'USPS': 10, 'FDE': 0}, {'TLMD': 37, 'FDEG': 10, 'UPSN': 3, 'USPS': 16, 'FDE': 0}, {'TLMD': 29, 'FDEG': 13, 'UPSN': 2, 'USPS': 11, 'FDE': 0}]}, {'Truck Number': 12, 'pallets': [{'TLMD': 50, 'FDEG': 0, 'UPSN': 0, 'USPS': 0, 'FDE': 0}, {'TLMD': 32, 'FDEG': 0, 'UPSN': 0, 'USPS': 0, 'FDE': 0}, {'TLMD': 0, 'FDEG': 17, 'UPSN': 2, 'USPS': 12, 'FDE': 1}, {'TLMD': 0, 'FDEG': 9, 'UPSN': 4, 'USPS': 26, 'FDE': 0}]}, {'Truck Number': 13, 'pallets': [{'TLMD': 42, 'FDEG': 0, 'UPSN': 0, 'USPS': 0, 'FDE': 0}, {'TLMD': 43, 'FDEG': 0, 'UPSN': 0, 'USPS': 0, 'FDE': 0}, {'TLMD': 0, 'FDEG': 9, 'UPSN': 6, 'USPS': 11, 'FDE': 0}, {'TLMD': 0, 'FDEG': 12, 'UPSN': 3, 'USPS': 18, 'FDE': 0}]}, {'Truck Number': 14, 'pallets': [{'TLMD': 52, 'FDEG': 0, 'UPSN': 0, 'USPS': 0, 'FDE': 0}, {'TLMD': 39, 'FDEG': 0, 'UPSN': 0, 'USPS': 0, 'FDE': 0}, {'TLMD': 0, 'FDEG': 15, 'UPSN': 5, 'USPS': 26, 'FDE': 0}, {'TLMD': 0, 'FDEG': 23, 'UPSN': 3, 'USPS': 11, 'FDE': 0}]}, {'Truck Number': 15, 'pallets': [{'TLMD': 35, 'FDEG': 0, 'UPSN': 0, 'USPS': 0, 'FDE': 0}, {'TLMD': 55, 'FDEG': 0, 'UPSN': 0, 'USPS': 0, 'FDE': 0}, {'TLMD': 53, 'FDEG': 0, 'UPSN': 0, 'USPS': 0, 'FDE': 0}, {'TLMD': 37, 'FDEG': 0, 'UPSN': 0, 'USPS': 0, 'FDE': 0}, {'TLMD': 0, 'FDEG': 21, 'UPSN': 5, 'USPS': 20, 'FDE': 0}, {'TLMD': 0, 'FDEG': 16, 'UPSN': 3, 'USPS': 27, 'FDE': 0}, {'TLMD': 0, 'FDEG': 13, 'UPSN': 7, 'USPS': 12, 'FDE': 0}]}, {'Truck Number': 16, 'pallets': [{'TLMD': 55, 'FDEG': 0, 'UPSN': 0, 'USPS': 0, 'FDE': 0, 'NC': 0}, {'TLMD': 55, 'FDEG': 0, 'UPSN': 0, 'USPS': 0, 'FDE': 0, 'NC': 0}, {'TLMD': 55, 'FDEG': 0, 'UPSN': 0, 'USPS': 0, 'FDE': 0, 'NC': 0}, {'TLMD': 55, 'FDEG': 0, 'UPSN': 0, 'USPS': 0, 'FDE': 0, 'NC': 0}, {'TLMD': 55, 'FDEG': 0, 'UPSN': 0, 'USPS': 0, 'FDE': 0, 'NC': 0}, {'TLMD': 55, 'FDEG': 0, 'UPSN': 0, 'USPS': 0, 'FDE': 0, 'NC': 0}, {'TLMD': 55, 'FDEG': 0, 'UPSN': 0, 'USPS': 0, 'FDE': 0, 'NC': 0}, {'TLMD': 55, 'FDEG': 0, 'UPSN': 0, 'USPS': 0, 'FDE': 0, 'NC': 0}, {'TLMD': 55, 'FDEG': 0, 'UPSN': 0, 'USPS': 0, 'FDE': 0, 'NC': 0}, {'TLMD': 55, 'FDEG': 0, 'UPSN': 0, 'USPS': 0, 'FDE': 0, 'NC': 0}, {'TLMD': 55, 'FDEG': 0, 'UPSN': 0, 'USPS': 0, 'FDE': 0, 'NC': 0}, {'TLMD': 55, 'FDEG': 0, 'UPSN': 0, 'USPS': 0, 'FDE': 0, 'NC': 0}, {'TLMD': 55, 'FDEG': 0, 'UPSN': 0, 'USPS': 0, 'FDE': 0, 'NC': 0}, {'TLMD': 55, 'FDEG': 0, 'UPSN': 0, 'USPS': 0, 'FDE': 0, 'NC': 0}, {'TLMD': 55, 'FDEG': 0, 'UPSN': 0, 'USPS': 0, 'FDE': 0, 'NC': 0}, {'TLMD': 55, 'FDEG': 0, 'UPSN': 0, 'USPS': 0, 'FDE': 0, 'NC': 0}, {'TLMD': 55, 'FDEG': 0, 'UPSN': 0, 'USPS': 0, 'FDE': 0, 'NC': 0}, {'TLMD': 55, 'FDEG': 0, 'UPSN': 0, 'USPS': 0, 'FDE': 0, 'NC': 0}, {'TLMD': 55, 'FDEG': 0, 'UPSN': 0, 'USPS': 0, 'FDE': 0, 'NC': 0}, {'TLMD': 55, 'FDEG': 0, 'UPSN': 0, 'USPS': 0, 'FDE': 0, 'NC': 0}, {'TLMD': 55, 'FDEG': 0, 'UPSN': 0, 'USPS': 0, 'FDE': 0, 'NC': 0}, {'TLMD': 55, 'FDEG': 0, 'UPSN': 0, 'USPS': 0, 'FDE': 0, 'NC': 0}, {'TLMD': 55, 'FDEG': 0, 'UPSN': 0, 'USPS': 0, 'FDE': 0, 'NC': 0}, {'TLMD': 55, 'FDEG': 0, 'UPSN': 0, 'USPS': 0, 'FDE': 0, 'NC': 0}, {'TLMD': 55, 'FDEG': 0, 'UPSN': 0, 'USPS': 0, 'FDE': 0, 'NC': 0}, {'TLMD': 55, 'FDEG': 0, 'UPSN': 0, 'USPS': 0, 'FDE': 0, 'NC': 0}, {'TLMD': 55, 'FDEG': 0, 'UPSN': 0, 'USPS': 0, 'FDE': 0, 'NC': 0}, {'TLMD': 55, 'FDEG': 0, 'UPSN': 0, 'USPS': 0, 'FDE': 0, 'NC': 0}, {'TLMD': 55, 'FDEG': 0, 'UPSN': 0, 'USPS': 0, 'FDE': 0, 'NC': 0}, {'TLMD': 55, 'FDEG': 0, 'UPSN': 0, 'USPS': 0, 'FDE': 0, 'NC': 0}, {'TLMD': 55, 'FDEG': 0, 'UPSN': 0, 'USPS': 0, 'FDE': 0, 'NC': 0}, {'TLMD': 55, 'FDEG': 0, 'UPSN': 0, 'USPS': 0, 'FDE': 0, 'NC': 0}, {'TLMD': 55, 'FDEG': 0, 'UPSN': 0, 'USPS': 0, 'FDE': 0, 'NC': 0}, {'TLMD': 55, 'FDEG': 0, 'UPSN': 0, 'USPS': 0, 'FDE': 0, 'NC': 0}, {'TLMD': 55, 'FDEG': 0, 'UPSN': 0, 'USPS': 0, 'FDE': 0, 'NC': 0}, {'TLMD': 55, 'FDEG': 0, 'UPSN': 0, 'USPS': 0, 'FDE': 0, 'NC': 0}, {'TLMD': 55, 'FDEG': 0, 'UPSN': 0, 'USPS': 0, 'FDE': 0, 'NC': 0}, {'TLMD': 55, 'FDEG': 0, 'UPSN': 0, 'USPS': 0, 'FDE': 0, 'NC': 0}, {'TLMD': 55, 'FDEG': 0, 'UPSN': 0, 'USPS': 0, 'FDE': 0, 'NC': 0}, {'TLMD': 55, 'FDEG': 0, 'UPSN': 0, 'USPS': 0, 'FDE': 0, 'NC': 0}, {'TLMD': 55, 'FDEG': 0, 'UPSN': 0, 'USPS': 0, 'FDE': 0, 'NC': 0}, {'TLMD': 55, 'FDEG': 0, 'UPSN': 0, 'USPS': 0, 'FDE': 0, 'NC': 0}, {'TLMD': 55, 'FDEG': 0, 'UPSN': 0, 'USPS': 0, 'FDE': 0, 'NC': 0}, {'TLMD': 55, 'FDEG': 0, 'UPSN': 0, 'USPS': 0, 'FDE': 0, 'NC': 0}, {'TLMD': 55, 'FDEG': 0, 'UPSN': 0, 'USPS': 0, 'FDE': 0, 'NC': 0}, {'TLMD': 53, 'FDEG': 0, 'UPSN': 0, 'USPS': 0, 'FDE': 0, 'NC': 0}]}]\n"
     ]
    },
    {
     "name": "stderr",
     "output_type": "stream",
     "text": [
      "c:\\Users\\fenst\\Documents\\Python\\Practice\\Tuned DES\\Current_pallet_TFC\\sim_generator_LHC_Sep.py:39: FutureWarning: Calling int on a single element Series is deprecated and will raise a TypeError in the future. Use int(ser.iloc[0]) instead\n",
      "  total_tlmd_volume = int(df_carrier_breakdown.loc[df_carrier_breakdown['Organization'] == 'TLMD', 'Packages']) + TFC_vol\n"
     ]
    }
   ],
   "source": [
    "import sim_generator_LHC_Norm as sg\n",
    "df, df_package_distribution, TFC_arrival_minutes, partition_1, partition_2, partition_3AB, Partition_3C, dic= sg.simulation_generator(10000, 'pallet', [.5,.35,.15])"
   ]
  },
  {
   "cell_type": "code",
   "execution_count": null,
   "metadata": {},
   "outputs": [],
   "source": [
    "def sum_packages_by_partition(df, partition):\n",
    "    filtered_df = df[df['Partition'] == partition]\n",
    "    all_part_packages = sum([len(row['package_tracking_number']) for i, row in filtered_df.iterrows()])\n",
    "    return all_part_packages"
   ]
  },
  {
   "cell_type": "code",
   "execution_count": null,
   "metadata": {},
   "outputs": [],
   "source": [
    "print(sum_packages_by_partition(A, '1'))\n",
    "print(len(A))"
   ]
  },
  {
   "cell_type": "code",
   "execution_count": null,
   "metadata": {},
   "outputs": [],
   "source": [
    "filtered_df = A[A['Partition'] == '1']\n",
    "print(len(filtered_df))\n",
    "filtered_df = A[A['Partition'] == '2']\n",
    "print(len(filtered_df))\n",
    "filtered_df = A[A['Partition'] == '3AB']\n",
    "print(len(filtered_df))\n",
    "filtered_df = A[A['Partition'] == '3C']\n",
    "print(len(filtered_df))"
   ]
  },
  {
   "cell_type": "code",
   "execution_count": null,
   "metadata": {},
   "outputs": [],
   "source": [
    "import demand_generator as dg\n",
    "df_package_distribution, TFC_vol, TFC_arrival_minutes, TFC_pallets = dg.generate_demand('linehaul_all_predict - Copy.csv', 3858, 10000, '2024-09-01')\n",
    "print(df_package_distribution)"
   ]
  }
 ],
 "metadata": {
  "kernelspec": {
   "display_name": "Python 3",
   "language": "python",
   "name": "python3"
  },
  "language_info": {
   "codemirror_mode": {
    "name": "ipython",
    "version": 3
   },
   "file_extension": ".py",
   "mimetype": "text/x-python",
   "name": "python",
   "nbconvert_exporter": "python",
   "pygments_lexer": "ipython3",
   "version": "3.12.2"
  }
 },
 "nbformat": 4,
 "nbformat_minor": 2
}
