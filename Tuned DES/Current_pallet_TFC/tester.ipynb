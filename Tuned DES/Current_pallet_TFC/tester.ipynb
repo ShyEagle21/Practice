{
 "cells": [
  {
   "cell_type": "code",
   "execution_count": 1,
   "metadata": {},
   "outputs": [
    {
     "name": "stdout",
     "output_type": "stream",
     "text": [
      "Total TLMD volume: 6142\n",
      "TFC volume: 2436\n",
      "linehaul tlmd volume: 3706\n",
      "[{'Truck Number': 1, 'pallets': [{'TLMD': 27, 'FDEG': 21, 'UPSN': 8, 'USPS': 14, 'FDE': 0}, {'TLMD': 34, 'FDEG': 8, 'UPSN': 2, 'USPS': 12, 'FDE': 0}, {'TLMD': 28, 'FDEG': 14, 'UPSN': 15, 'USPS': 5, 'FDE': 0}, {'TLMD': 23, 'FDEG': 15, 'UPSN': 5, 'USPS': 7, 'FDE': 0}, {'TLMD': 35, 'FDEG': 8, 'UPSN': 7, 'USPS': 6, 'FDE': 0}, {'TLMD': 33, 'FDEG': 12, 'UPSN': 5, 'USPS': 5, 'FDE': 0}, {'TLMD': 27, 'FDEG': 14, 'UPSN': 5, 'USPS': 9, 'FDE': 0}, {'TLMD': 25, 'FDEG': 14, 'UPSN': 5, 'USPS': 5, 'FDE': 0}, {'TLMD': 35, 'FDEG': 11, 'UPSN': 7, 'USPS': 4, 'FDE': 0}, {'TLMD': 37, 'FDEG': 10, 'UPSN': 3, 'USPS': 5, 'FDE': 0}]}, {'Truck Number': 2, 'pallets': [{'TLMD': 34, 'FDEG': 14, 'UPSN': 3, 'USPS': 2, 'FDE': 0}, {'TLMD': 20, 'FDEG': 8, 'UPSN': 8, 'USPS': 4, 'FDE': 0}, {'TLMD': 41, 'FDEG': 15, 'UPSN': 12, 'USPS': 11, 'FDE': 0}, {'TLMD': 27, 'FDEG': 19, 'UPSN': 10, 'USPS': 9, 'FDE': 0}, {'TLMD': 30, 'FDEG': 17, 'UPSN': 6, 'USPS': 7, 'FDE': 0}, {'TLMD': 28, 'FDEG': 14, 'UPSN': 8, 'USPS': 4, 'FDE': 0}, {'TLMD': 24, 'FDEG': 12, 'UPSN': 8, 'USPS': 5, 'FDE': 0}, {'TLMD': 37, 'FDEG': 27, 'UPSN': 8, 'USPS': 7, 'FDE': 0}, {'TLMD': 26, 'FDEG': 13, 'UPSN': 10, 'USPS': 7, 'FDE': 0}, {'TLMD': 33, 'FDEG': 14, 'UPSN': 5, 'USPS': 9, 'FDE': 0}, {'TLMD': 29, 'FDEG': 11, 'UPSN': 7, 'USPS': 6, 'FDE': 0}, {'TLMD': 18, 'FDEG': 18, 'UPSN': 2, 'USPS': 9, 'FDE': 0}, {'TLMD': 33, 'FDEG': 11, 'UPSN': 6, 'USPS': 9, 'FDE': 0}, {'TLMD': 34, 'FDEG': 15, 'UPSN': 6, 'USPS': 6, 'FDE': 0}, {'TLMD': 36, 'FDEG': 18, 'UPSN': 8, 'USPS': 9, 'FDE': 0}, {'TLMD': 21, 'FDEG': 10, 'UPSN': 5, 'USPS': 13, 'FDE': 0}, {'TLMD': 31, 'FDEG': 15, 'UPSN': 8, 'USPS': 10, 'FDE': 0}, {'TLMD': 31, 'FDEG': 15, 'UPSN': 6, 'USPS': 10, 'FDE': 0}, {'TLMD': 26, 'FDEG': 14, 'UPSN': 4, 'USPS': 12, 'FDE': 1}]}, {'Truck Number': 3, 'pallets': [{'TLMD': 33, 'FDEG': 10, 'UPSN': 10, 'USPS': 8, 'FDE': 0}, {'TLMD': 21, 'FDEG': 16, 'UPSN': 4, 'USPS': 11, 'FDE': 0}, {'TLMD': 28, 'FDEG': 14, 'UPSN': 12, 'USPS': 6, 'FDE': 0}, {'TLMD': 21, 'FDEG': 12, 'UPSN': 3, 'USPS': 9, 'FDE': 0}, {'TLMD': 25, 'FDEG': 15, 'UPSN': 6, 'USPS': 10, 'FDE': 0}, {'TLMD': 16, 'FDEG': 8, 'UPSN': 11, 'USPS': 5, 'FDE': 0}]}, {'Truck Number': 4, 'pallets': [{'TLMD': 28, 'FDEG': 11, 'UPSN': 5, 'USPS': 6, 'FDE': 0}, {'TLMD': 25, 'FDEG': 18, 'UPSN': 3, 'USPS': 6, 'FDE': 0}, {'TLMD': 36, 'FDEG': 13, 'UPSN': 9, 'USPS': 10, 'FDE': 0}, {'TLMD': 29, 'FDEG': 5, 'UPSN': 10, 'USPS': 6, 'FDE': 1}, {'TLMD': 27, 'FDEG': 14, 'UPSN': 7, 'USPS': 9, 'FDE': 0}, {'TLMD': 25, 'FDEG': 9, 'UPSN': 1, 'USPS': 9, 'FDE': 0}]}, {'Truck Number': 5, 'pallets': [{'TLMD': 40, 'FDEG': 17, 'UPSN': 5, 'USPS': 9, 'FDE': 0}, {'TLMD': 40, 'FDEG': 16, 'UPSN': 12, 'USPS': 4, 'FDE': 0}, {'TLMD': 35, 'FDEG': 7, 'UPSN': 4, 'USPS': 8, 'FDE': 0}, {'TLMD': 27, 'FDEG': 23, 'UPSN': 9, 'USPS': 4, 'FDE': 0}, {'TLMD': 31, 'FDEG': 14, 'UPSN': 7, 'USPS': 8, 'FDE': 1}, {'TLMD': 36, 'FDEG': 12, 'UPSN': 3, 'USPS': 3, 'FDE': 0}, {'TLMD': 30, 'FDEG': 13, 'UPSN': 8, 'USPS': 9, 'FDE': 0}, {'TLMD': 28, 'FDEG': 16, 'UPSN': 6, 'USPS': 7, 'FDE': 0}, {'TLMD': 28, 'FDEG': 13, 'UPSN': 5, 'USPS': 6, 'FDE': 0}, {'TLMD': 36, 'FDEG': 16, 'UPSN': 5, 'USPS': 9, 'FDE': 0}, {'TLMD': 32, 'FDEG': 12, 'UPSN': 9, 'USPS': 13, 'FDE': 0}, {'TLMD': 38, 'FDEG': 15, 'UPSN': 9, 'USPS': 9, 'FDE': 0}, {'TLMD': 25, 'FDEG': 19, 'UPSN': 7, 'USPS': 16, 'FDE': 0}]}, {'Truck Number': 6, 'pallets': [{'TLMD': 27, 'FDEG': 9, 'UPSN': 5, 'USPS': 10, 'FDE': 0}, {'TLMD': 31, 'FDEG': 17, 'UPSN': 8, 'USPS': 10, 'FDE': 1}, {'TLMD': 29, 'FDEG': 17, 'UPSN': 17, 'USPS': 8, 'FDE': 0}, {'TLMD': 28, 'FDEG': 10, 'UPSN': 8, 'USPS': 8, 'FDE': 0}, {'TLMD': 28, 'FDEG': 14, 'UPSN': 12, 'USPS': 17, 'FDE': 0}, {'TLMD': 26, 'FDEG': 22, 'UPSN': 5, 'USPS': 8, 'FDE': 0}, {'TLMD': 29, 'FDEG': 10, 'UPSN': 14, 'USPS': 15, 'FDE': 0}, {'TLMD': 26, 'FDEG': 20, 'UPSN': 7, 'USPS': 10, 'FDE': 0}, {'TLMD': 25, 'FDEG': 16, 'UPSN': 6, 'USPS': 12, 'FDE': 0}, {'TLMD': 31, 'FDEG': 15, 'UPSN': 7, 'USPS': 11, 'FDE': 0}, {'TLMD': 33, 'FDEG': 13, 'UPSN': 5, 'USPS': 8, 'FDE': 0}, {'TLMD': 23, 'FDEG': 15, 'UPSN': 6, 'USPS': 10, 'FDE': 0}, {'TLMD': 34, 'FDEG': 12, 'UPSN': 8, 'USPS': 12, 'FDE': 0}, {'TLMD': 23, 'FDEG': 15, 'UPSN': 6, 'USPS': 7, 'FDE': 0}, {'TLMD': 26, 'FDEG': 16, 'UPSN': 11, 'USPS': 3, 'FDE': 2}, {'TLMD': 26, 'FDEG': 11, 'UPSN': 8, 'USPS': 13, 'FDE': 0}]}, {'Truck Number': 7, 'pallets': [{'TLMD': 17, 'FDEG': 14, 'UPSN': 6, 'USPS': 12, 'FDE': 0}, {'TLMD': 16, 'FDEG': 9, 'UPSN': 5, 'USPS': 3, 'FDE': 0}]}, {'Truck Number': 8, 'pallets': [{'TLMD': 25, 'FDEG': 17, 'UPSN': 7, 'USPS': 10, 'FDE': 1}, {'TLMD': 20, 'FDEG': 19, 'UPSN': 6, 'USPS': 8, 'FDE': 0}, {'TLMD': 29, 'FDEG': 8, 'UPSN': 7, 'USPS': 8, 'FDE': 0}, {'TLMD': 26, 'FDEG': 14, 'UPSN': 8, 'USPS': 10, 'FDE': 0}, {'TLMD': 30, 'FDEG': 12, 'UPSN': 11, 'USPS': 6, 'FDE': 0}, {'TLMD': 29, 'FDEG': 22, 'UPSN': 7, 'USPS': 6, 'FDE': 0}, {'TLMD': 26, 'FDEG': 5, 'UPSN': 6, 'USPS': 16, 'FDE': 0}]}, {'Truck Number': 9, 'pallets': [{'TLMD': 31, 'FDEG': 19, 'UPSN': 5, 'USPS': 5, 'FDE': 0}, {'TLMD': 29, 'FDEG': 13, 'UPSN': 11, 'USPS': 12, 'FDE': 0}, {'TLMD': 26, 'FDEG': 11, 'UPSN': 10, 'USPS': 7, 'FDE': 0}, {'TLMD': 37, 'FDEG': 15, 'UPSN': 10, 'USPS': 6, 'FDE': 0}, {'TLMD': 33, 'FDEG': 13, 'UPSN': 12, 'USPS': 14, 'FDE': 0}, {'TLMD': 34, 'FDEG': 10, 'UPSN': 7, 'USPS': 8, 'FDE': 0}, {'TLMD': 34, 'FDEG': 12, 'UPSN': 5, 'USPS': 8, 'FDE': 0}, {'TLMD': 26, 'FDEG': 23, 'UPSN': 2, 'USPS': 9, 'FDE': 0}, {'TLMD': 32, 'FDEG': 10, 'UPSN': 11, 'USPS': 13, 'FDE': 0}, {'TLMD': 34, 'FDEG': 8, 'UPSN': 11, 'USPS': 8, 'FDE': 1}, {'TLMD': 32, 'FDEG': 20, 'UPSN': 10, 'USPS': 9, 'FDE': 0}, {'TLMD': 27, 'FDEG': 10, 'UPSN': 9, 'USPS': 12, 'FDE': 0}, {'TLMD': 34, 'FDEG': 15, 'UPSN': 7, 'USPS': 15, 'FDE': 1}, {'TLMD': 42, 'FDEG': 20, 'UPSN': 10, 'USPS': 9, 'FDE': 0}]}, {'Truck Number': 10, 'pallets': [{'TLMD': 30, 'FDEG': 19, 'UPSN': 8, 'USPS': 11, 'FDE': 0}, {'TLMD': 33, 'FDEG': 21, 'UPSN': 10, 'USPS': 14, 'FDE': 0}, {'TLMD': 41, 'FDEG': 15, 'UPSN': 7, 'USPS': 12, 'FDE': 0}, {'TLMD': 43, 'FDEG': 13, 'UPSN': 12, 'USPS': 14, 'FDE': 0}, {'TLMD': 33, 'FDEG': 21, 'UPSN': 8, 'USPS': 7, 'FDE': 1}, {'TLMD': 36, 'FDEG': 12, 'UPSN': 6, 'USPS': 15, 'FDE': 0}, {'TLMD': 28, 'FDEG': 20, 'UPSN': 8, 'USPS': 11, 'FDE': 0}, {'TLMD': 25, 'FDEG': 13, 'UPSN': 13, 'USPS': 12, 'FDE': 0}, {'TLMD': 30, 'FDEG': 22, 'UPSN': 14, 'USPS': 16, 'FDE': 0}, {'TLMD': 36, 'FDEG': 24, 'UPSN': 18, 'USPS': 10, 'FDE': 0}, {'TLMD': 28, 'FDEG': 17, 'UPSN': 7, 'USPS': 11, 'FDE': 0}, {'TLMD': 44, 'FDEG': 17, 'UPSN': 7, 'USPS': 7, 'FDE': 0}]}, {'Truck Number': 11, 'pallets': [{'TLMD': 37, 'FDEG': 26, 'UPSN': 9, 'USPS': 6, 'FDE': 0}, {'TLMD': 34, 'FDEG': 16, 'UPSN': 7, 'USPS': 10, 'FDE': 0}, {'TLMD': 23, 'FDEG': 20, 'UPSN': 9, 'USPS': 14, 'FDE': 0}, {'TLMD': 28, 'FDEG': 11, 'UPSN': 6, 'USPS': 8, 'FDE': 0}, {'TLMD': 22, 'FDEG': 8, 'UPSN': 9, 'USPS': 8, 'FDE': 0}, {'TLMD': 28, 'FDEG': 12, 'UPSN': 8, 'USPS': 5, 'FDE': 0}]}, {'Truck Number': 12, 'pallets': [{'TLMD': 52, 'FDEG': 0, 'UPSN': 0, 'USPS': 0, 'FDE': 0}, {'TLMD': 46, 'FDEG': 0, 'UPSN': 0, 'USPS': 0, 'FDE': 0}, {'TLMD': 0, 'FDEG': 15, 'UPSN': 10, 'USPS': 9, 'FDE': 0}, {'TLMD': 0, 'FDEG': 23, 'UPSN': 9, 'USPS': 16, 'FDE': 0}]}, {'Truck Number': 13, 'pallets': [{'TLMD': 37, 'FDEG': 0, 'UPSN': 0, 'USPS': 0, 'FDE': 0}, {'TLMD': 46, 'FDEG': 0, 'UPSN': 0, 'USPS': 0, 'FDE': 0}, {'TLMD': 56, 'FDEG': 0, 'UPSN': 0, 'USPS': 0, 'FDE': 0}, {'TLMD': 43, 'FDEG': 0, 'UPSN': 0, 'USPS': 0, 'FDE': 0}, {'TLMD': 0, 'FDEG': 21, 'UPSN': 18, 'USPS': 18, 'FDE': 0}, {'TLMD': 0, 'FDEG': 20, 'UPSN': 9, 'USPS': 12, 'FDE': 0}, {'TLMD': 0, 'FDEG': 28, 'UPSN': 18, 'USPS': 15, 'FDE': 0}, {'TLMD': 0, 'FDEG': 28, 'UPSN': 14, 'USPS': 15, 'FDE': 1}]}, {'Truck Number': 14, 'pallets': [{'TLMD': 38, 'FDEG': 0, 'UPSN': 0, 'USPS': 0, 'FDE': 0}, {'TLMD': 26, 'FDEG': 0, 'UPSN': 0, 'USPS': 0, 'FDE': 0}, {'TLMD': 0, 'FDEG': 18, 'UPSN': 14, 'USPS': 15, 'FDE': 0}]}, {'Truck Number': 15, 'pallets': [{'TLMD': 36, 'FDEG': 0, 'UPSN': 0, 'USPS': 0, 'FDE': 0}, {'TLMD': 30, 'FDEG': 0, 'UPSN': 0, 'USPS': 0, 'FDE': 0}, {'TLMD': 0, 'FDEG': 14, 'UPSN': 7, 'USPS': 10, 'FDE': 0}, {'TLMD': 0, 'FDEG': 15, 'UPSN': 11, 'USPS': 10, 'FDE': 0}]}, {'Truck Number': 16, 'pallets': [{'TLMD': 2436, 'FDEG': 0, 'UPSN': 0, 'USPS': 0, 'FDE': 0}]}]\n",
      "partition_1: 3071, partition_2: 2150, partition_3: 921\n",
      "Partition 3AB: 511, Partition 3C: 410\n"
     ]
    },
    {
     "name": "stderr",
     "output_type": "stream",
     "text": [
      "c:\\Users\\fenst\\Documents\\Python\\Practice\\Tuned DES\\Current_pallet_TFC\\sim_generator_TFC_Fluid.py:39: FutureWarning: Calling int on a single element Series is deprecated and will raise a TypeError in the future. Use int(ser.iloc[0]) instead\n",
      "  total_tlmd_volume = int(df_carrier_breakdown.loc[df_carrier_breakdown['Organization'] == 'TLMD', 'Packages']) + TFC_vol\n"
     ]
    }
   ],
   "source": [
    "import sim_generator_TFC_Fluid as sg\n",
    "df, df_package_distribution, TFC_arrival_minutes, partition_1, partition_2, partition_3AB, Partition_3C= sg.simulation_generator(10000, [.5,.35,.15])"
   ]
  },
  {
   "cell_type": "code",
   "execution_count": null,
   "metadata": {},
   "outputs": [],
   "source": [
    "def sum_packages_by_partition(df, partition):\n",
    "    filtered_df = df[df['Partition'] == partition]\n",
    "    all_part_packages = sum([len(row['package_tracking_number']) for i, row in filtered_df.iterrows()])\n",
    "    return all_part_packages"
   ]
  },
  {
   "cell_type": "code",
   "execution_count": null,
   "metadata": {},
   "outputs": [],
   "source": [
    "print(sum_packages_by_partition(A, '1'))\n",
    "print(len(A))"
   ]
  },
  {
   "cell_type": "code",
   "execution_count": null,
   "metadata": {},
   "outputs": [],
   "source": [
    "filtered_df = A[A['Partition'] == '1']\n",
    "print(len(filtered_df))\n",
    "filtered_df = A[A['Partition'] == '2']\n",
    "print(len(filtered_df))\n",
    "filtered_df = A[A['Partition'] == '3AB']\n",
    "print(len(filtered_df))\n",
    "filtered_df = A[A['Partition'] == '3C']\n",
    "print(len(filtered_df))"
   ]
  },
  {
   "cell_type": "code",
   "execution_count": null,
   "metadata": {},
   "outputs": [],
   "source": [
    "import demand_generator as dg\n",
    "df_package_distribution, TFC_vol, TFC_arrival_minutes, TFC_pallets = dg.generate_demand('linehaul_all_predict - Copy.csv', 3858, 10000, '2024-09-01')\n",
    "print(df_package_distribution)"
   ]
  }
 ],
 "metadata": {
  "kernelspec": {
   "display_name": "Python 3",
   "language": "python",
   "name": "python3"
  },
  "language_info": {
   "codemirror_mode": {
    "name": "ipython",
    "version": 3
   },
   "file_extension": ".py",
   "mimetype": "text/x-python",
   "name": "python",
   "nbconvert_exporter": "python",
   "pygments_lexer": "ipython3",
   "version": "3.12.2"
  }
 },
 "nbformat": 4,
 "nbformat_minor": 2
}
