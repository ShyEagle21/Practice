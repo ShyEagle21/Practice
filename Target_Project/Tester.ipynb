{
 "cells": [
  {
   "cell_type": "code",
   "execution_count": null,
   "metadata": {},
   "outputs": [],
   "source": [
    "processor = CSVDataProcessor(file_path)\n",
    "processor.import_data()\n",
    "processor.handle_missing_data()\n",
    "summary = processor.generate_summary()\n",
    "print(summary)"
   ]
  }
 ],
 "metadata": {
  "language_info": {
   "name": "python"
  }
 },
 "nbformat": 4,
 "nbformat_minor": 2
}
