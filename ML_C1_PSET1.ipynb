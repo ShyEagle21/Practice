{
 "cells": [
  {
   "cell_type": "markdown",
   "metadata": {},
   "source": [
    "# Problem 1:"
   ]
  },
  {
   "cell_type": "markdown",
   "metadata": {},
   "source": [
    "### Question 1:"
   ]
  },
  {
   "cell_type": "code",
   "execution_count": null,
   "metadata": {},
   "outputs": [],
   "source": [
    "import matplotlib.pylab as plt\n",
    "import pandas as pd\n",
    "import numpy as np\n",
    "\n",
    "loss_dic ={}\n",
    "coeff_dic = {}\n",
    "#import necessary data\n",
    "data_train = pd.read_csv('wind_train.csv')\n",
    "data_test = pd.read_csv('wind_test.csv')"
   ]
  },
  {
   "cell_type": "code",
   "execution_count": null,
   "metadata": {},
   "outputs": [],
   "source": [
    "\n",
    "##### conduct data extraction to develop i-1 values for the regression\n",
    "X_cols = ['Wind', 'Rain', 'MaxTemp', 'MinTemp']\n",
    "y_col = 'Wind'\n",
    "\n",
    "# Shift feature columns by one day\n",
    "data_shifted = data_train[X_cols].shift(1)\n",
    "data_shifted.columns = [col + '_prev_day' for col in data_shifted.columns]\n",
    "\n",
    "data_shifted = data_shifted.dropna()\n",
    "\n",
    "# Create y the known value for windspeed\n",
    "y = data_train[y_col].iloc[1:]\n",
    "\n",
    "# Create X independent variable with  \n",
    "X = data_shifted\n",
    "\n",
    "# Convert to numpy arrays\n",
    "X = X.to_numpy()\n",
    "y = y.to_numpy()\n",
    "\n",
    "\n",
    "#####1.a#####\n",
    "\n",
    "model = np.linalg.lstsq(X, y, rcond=None)\n",
    "model_coeff = model[0]\n",
    "error_val = model[1]\n",
    "y_pred = X @ model_coeff\n",
    "X_for_pred = data_train[1:]\n",
    "\n",
    "\n",
    "#####1.b#####\n",
    "\n",
    "plt.figure(figsize=(12, 6))\n",
    "plt.plot(data_train['Date'], data_train['Wind'], 'o', label='Original data', markersize=1)\n",
    "plt.plot(X_for_pred['Date'], y_pred , 'r', label='Fitted line')\n",
    "plt.legend()\n",
    "plt.show()\n",
    "\n",
    "#####1.c#####\n",
    "\n",
    "print(f'thetas are: {model[0]}')\n",
    "print(f'training loss is {model[1]/1460}')\n",
    "loss_dic['model1'] = [model[1]/1460]\n",
    "coeff_dic['model1'] = model[0]\n",
    "train_loss = [np.mean((y_pred-y)**2)]\n",
    "loss_dic['model1'] = train_loss\n",
    "\"\"\"\n",
    "model_coeff = [ 0.74657977  0.13324713  0.293872   -0.30924845] which would resolve to be the theta's attached to the following features:\n",
    "previous day Wind = 0.74657977\n",
    "previous day Rain = 0.13324713\n",
    "previous day MaxTemp = 0.293872\n",
    "previous day MinTemp = -0.30924845\n",
    "\n",
    "The interpretation of these values for theta should be that when all other values are left the same, a unit change in one feature would\n",
    "result in a change in the wind speed of that value of theta.\n",
    "\n",
    "an example would be that if the previous days MinTemp was 1 higher, the wind value would be predicted 0.3092 lower\n",
    "\"\"\"\n",
    "\n",
    "\n",
    "# Shift feature columns by one day\n",
    "data_shifted_test = data_test[X_cols].shift(1)\n",
    "data_shifted_test.columns = [col + '_prev_day' for col in data_shifted_test.columns]\n",
    "\n",
    "data_shifted_test = data_shifted_test.dropna()\n",
    "\n",
    "# Create y the known value for windspeed\n",
    "y = data_test[y_col].iloc[1:]\n",
    "\n",
    "# Create X independent variable with  \n",
    "X = data_shifted_test\n",
    "\n",
    "# Convert to numpy arrays\n",
    "X_test = X.to_numpy()\n",
    "y_test = y.to_numpy()\n",
    "\n",
    "y_pred_test = X_test @ model_coeff\n",
    "test_loss = np.mean((y_pred_test-y_test)**2)\n",
    "loss_dic['model1'].append(test_loss)\n"
   ]
  },
  {
   "cell_type": "markdown",
   "metadata": {},
   "source": [
    "### Question 2"
   ]
  },
  {
   "cell_type": "markdown",
   "metadata": {},
   "source": [
    "Model 2:  Model 2 is not invertable.  Based on this the PLS formula is not valid.  The 5 X 1460 matrix has a rank of 4.  due to the nature that the MinTemp, MaxTemp and TempDiff are not linearly independent the rank is lower than the number of features.  For this reason it is not invertable."
   ]
  },
  {
   "cell_type": "markdown",
   "metadata": {},
   "source": [
    "Model 3: with the removal of MaxTemp, the rank of the matrix X in this case remains 4.  With the feature vector being 4 x 1460 the matrix is invertable and therefore the OLS formula can be applied."
   ]
  },
  {
   "cell_type": "code",
   "execution_count": null,
   "metadata": {},
   "outputs": [],
   "source": [
    "X_cols = ['Wind', 'Rain', 'MaxTemp', 'MinTemp', 'TempDiff']\n",
    "y_col = 'Wind'\n",
    "\n",
    "#create new value for differential temperature\n",
    "x_new = data_train['MaxTemp']-data_train['MinTemp']\n",
    "data_train['TempDiff'] = x_new\n",
    "\n",
    "# Shift feature columns by one day\n",
    "data_shifted = data_train[X_cols].shift(1)\n",
    "data_shifted.columns = [col + '_prev_day' for col in data_shifted.columns]\n",
    "\n",
    "data_shifted = data_shifted.dropna()\n",
    "del data_shifted['MaxTemp_prev_day']\n",
    "# Create y the known value for windspeed\n",
    "y = data_train[y_col].iloc[1:]\n",
    "\n",
    "# Create X independent variable with  \n",
    "X = data_shifted\n",
    "\n",
    "# Convert to numpy arrays\n",
    "X = X.to_numpy()\n",
    "y = y.to_numpy()\n",
    "\n",
    "\n",
    "\n",
    "\n",
    "model = np.linalg.lstsq(X, y, rcond=None)\n",
    "model_coeff = model[0]\n",
    "error_val = model[1]\n",
    "y_pred = X @ model_coeff\n",
    "X_for_pred = data_train[1:]\n",
    "print(f'thetas are: {model[0]}')\n",
    "print(f'training loss is {model[1]/1460}')\n",
    "\n",
    "coeff_dic['model3'] = model[0]\n",
    "train_loss = [np.mean((y_pred-y)**2)]\n",
    "loss_dic['model3'] = train_loss\n",
    "\n",
    "#######\n",
    "\n",
    "#create new value for differential temperature\n",
    "x_new = data_test['MaxTemp']-data_test['MinTemp']\n",
    "data_test['TempDiff'] = x_new\n",
    "\n",
    "# Shift feature columns by one day\n",
    "data_shifted_test = data_test[X_cols].shift(1)\n",
    "data_shifted_test.columns = [col + '_prev_day' for col in data_shifted_test.columns]\n",
    "\n",
    "data_shifted_test = data_shifted_test.dropna()\n",
    "del data_shifted_test['MaxTemp_prev_day']\n",
    "\n",
    "\n",
    "\n",
    "# Create y the known value for windspeed\n",
    "y = data_test[y_col].iloc[1:]\n",
    "\n",
    "# Create X independent variable with  \n",
    "X = data_shifted_test\n",
    "\n",
    "# Convert to numpy arrays\n",
    "X_test = X.to_numpy()\n",
    "y_test = y.to_numpy()\n",
    "\n",
    "y_pred_test = X_test @ model_coeff\n",
    "test_loss = np.mean((y_pred_test-y_test)**2)\n",
    "loss_dic['model3'].append(test_loss)"
   ]
  },
  {
   "cell_type": "markdown",
   "metadata": {},
   "source": [
    "Mark 4: with the introduction of nonlinearity through the squareroot of the differential temperature the rank of this matrix is now 5.  That included with the features matrix being 5 x 1460 shows that this matrix is invertable."
   ]
  },
  {
   "cell_type": "code",
   "execution_count": null,
   "metadata": {},
   "outputs": [],
   "source": [
    "X_cols = ['Wind', 'Rain', 'MaxTemp', 'MinTemp', 'TempDiff']\n",
    "y_col = 'Wind'\n",
    "\n",
    "#create new value for differential temperature\n",
    "x_new = data_train['MaxTemp']-data_train['MinTemp']\n",
    "x_new_sqrt = x_new.apply(np.sqrt)\n",
    "data_train['TempDiff'] = x_new_sqrt\n",
    "\n",
    "# Shift feature columns by one day\n",
    "data_shifted = data_train[X_cols].shift(1)\n",
    "data_shifted.columns = [col + '_prev_day' for col in data_shifted.columns]\n",
    "\n",
    "data_shifted = data_shifted.dropna()\n",
    "\n",
    "# Create y the known value for windspeed\n",
    "y = data_train[y_col].iloc[1:]\n",
    "\n",
    "# Create X independent variable with  \n",
    "X = data_shifted\n",
    "\n",
    "# Convert to numpy arrays\n",
    "X = X.to_numpy()\n",
    "y = y.to_numpy()\n",
    "\n",
    "\n",
    "model = np.linalg.lstsq(X, y, rcond=None)\n",
    "model_coeff = model[0]\n",
    "error_val = model[1]\n",
    "y_pred = X @ model_coeff\n",
    "X_for_pred = data_train[1:]\n",
    "print(f'thetas are: {model[0]}')\n",
    "print(f'training loss is {model[1]/1460}')\n",
    "coeff_dic['model4'] = model[0]\n",
    "train_loss = np.mean((y_pred-y)**2)\n",
    "loss_dic['model4'] = [train_loss]\n",
    "\n",
    "\n",
    "#######\n",
    "\n",
    "\n",
    "# Shift feature columns by one day\n",
    "data_shifted_test = data_test[X_cols].shift(1)\n",
    "data_shifted_test.columns = [col + '_prev_day' for col in data_shifted_test.columns]\n",
    "\n",
    "data_shifted_test = data_shifted_test.dropna()\n",
    "\n",
    "# Create y the known value for windspeed\n",
    "y = data_test[y_col].iloc[1:]\n",
    "\n",
    "# Create X independent variable with  \n",
    "X = data_shifted_test\n",
    "\n",
    "# Convert to numpy arrays\n",
    "X_test = X.to_numpy()\n",
    "y_test = y.to_numpy()\n",
    "\n",
    "y_pred_test = X_test @ model_coeff\n",
    "test_loss = np.mean((y_pred_test-y_test)**2)\n",
    "loss_dic['model4'].append(test_loss)"
   ]
  },
  {
   "cell_type": "code",
   "execution_count": null,
   "metadata": {},
   "outputs": [],
   "source": [
    "df_loss = pd.DataFrame.from_dict(loss_dic)\n",
    "df_loss.index = ['train_loss', 'test_loss']\n",
    "print(f\"model 1 coefficients are {coeff_dic['model1']}\")\n",
    "print(f\"model 3 coefficients are {coeff_dic['model3']}\")\n",
    "print(f\"model 4 coefficients are {coeff_dic['model4']}\")"
   ]
  },
  {
   "cell_type": "code",
   "execution_count": null,
   "metadata": {},
   "outputs": [],
   "source": [
    "print('Loss Values for the applicable models')\n",
    "print(df_loss) "
   ]
  },
  {
   "cell_type": "markdown",
   "metadata": {},
   "source": [
    "### Question 3"
   ]
  },
  {
   "cell_type": "code",
   "execution_count": null,
   "metadata": {},
   "outputs": [],
   "source": [
    "#I want to make a list x which has numbers from -1 to 1 in 0.01 increments\n",
    "X = np.arange(-1, 1, 0.01)\n",
    "y = 2*np.exp(X)-2*X-2\n",
    "plt.plot(X, y)"
   ]
  },
  {
   "cell_type": "markdown",
   "metadata": {},
   "source": [
    "The implementation of this new loss function provides a higher rate of increase for the loss when x>1 as seen by y = 1.4 at x=1 and 0.8 at x=-1"
   ]
  },
  {
   "cell_type": "markdown",
   "metadata": {},
   "source": [
    "# Problem 2:"
   ]
  },
  {
   "cell_type": "markdown",
   "metadata": {},
   "source": [
    "##Question a"
   ]
  },
  {
   "cell_type": "code",
   "execution_count": 1,
   "metadata": {},
   "outputs": [],
   "source": [
    "import matplotlib.pylab as plt\n",
    "import pandas as pd\n",
    "import numpy as np\n",
    "from sklearn.linear_model import LogisticRegression\n",
    "from sklearn.metrics import log_loss\n",
    "\n",
    "#import necessary data\n",
    "data_train = pd.read_csv('forest_fires_train.csv')\n",
    "data_test = pd.read_csv('forest_fires_test.csv')"
   ]
  },
  {
   "cell_type": "code",
   "execution_count": 19,
   "metadata": {},
   "outputs": [],
   "source": [
    "##### conduct data extraction to develop i-1 values for the regression\n",
    "\n",
    "X = data_train.iloc[:, 3:-1] \n",
    "y = data_train.iloc[:, -1]\n",
    "X = X.to_numpy()\n",
    "\n",
    "y = y.to_numpy()\n",
    "#standardize X\n",
    "X = (X - X.mean(axis=0)) / X.std(axis=0)\n",
    "#add column of ones at front of x for theta0\n",
    "X = np.column_stack((np.ones(X.shape[0]), X))\n",
    "\n",
    "X_test = data_test.iloc[:, 3:-1] \n",
    "y_test = data_test.iloc[:, -1]\n",
    "X_test = X_test.to_numpy()\n",
    "\n",
    "y_test = y_test.to_numpy()\n",
    "#standardize X\n",
    "X_test = (X_test - X_test.mean(axis=0)) / X_test.std(axis=0)\n",
    "#add column of ones at front of x for theta0\n",
    "X_test = np.column_stack((np.ones(X_test.shape[0]), X_test))\n"
   ]
  },
  {
   "cell_type": "code",
   "execution_count": 12,
   "metadata": {},
   "outputs": [
    {
     "data": {
      "image/png": "[encoded data removed]",
      "text/plain": [
       "<Figure size 640x480 with 1 Axes>"
      ]
     },
     "metadata": {},
     "output_type": "display_data"
    }
   ],
   "source": [
    "#create sigmoid function\n",
    "def sigmoid(z):\n",
    "    return 1 / (1 + np.exp(-z))\n",
    "\n",
    "def accuracy_check(X, y, theta):\n",
    "    z = np.dot(X, theta)\n",
    "    h = sigmoid(z)\n",
    "    y_pred = np.round(h)\n",
    "    accuracy = np.mean(y_pred == y)\n",
    "    return accuracy\n",
    "\n",
    "def logistic_regression_gradient_descent(X, y, lamb, learning_rate=0.01, iterations=1000):\n",
    "    loss_track = []\n",
    "    accuracy_track = []\n",
    "    m, n = X.shape\n",
    "    theta = np.zeros(n)\n",
    "    for _ in range(iterations):\n",
    "        z = np.dot(X, theta)\n",
    "        h = sigmoid(z)\n",
    "        loss = -1/m * np.sum(y * np.log(h) + (1 - y) * np.log(1 - h))\n",
    "        loss_track.append(loss)\n",
    "        accuracy_track.append(accuracy_check(X, y, theta))\n",
    "        gradient = np.dot(X.T, (h - y)) / m + (lamb / m) * theta\n",
    "        theta -= learning_rate * gradient\n",
    "        \n",
    "    plt.plot(loss_track, label='loss')\n",
    "    plt.plot(accuracy_track, label = 'accuracy')\n",
    "    plt.legend()\n",
    "\n",
    "    return theta\n",
    "\n",
    "\n",
    "model_coeff = logistic_regression_gradient_descent(X, y, 1)"
   ]
  },
  {
   "cell_type": "code",
   "execution_count": 4,
   "metadata": {},
   "outputs": [
    {
     "name": "stdout",
     "output_type": "stream",
     "text": [
      "theta 0 is 0.8011240072665884\n",
      "theta 1 is 0.4821478702344288\n",
      "theta 2 is -0.301657787393724\n",
      "theta 3 is 0.2045831067119174\n",
      "theta 4 is -0.35065852848614815\n",
      "theta 5 is 0.924916792810534\n",
      "theta 6 is 0.28461335173876107\n",
      "theta 7 is 0.30881147537635745\n",
      "theta 8 is 0.47938938084064414\n",
      "theta 9 is 0.29764603727015293\n",
      "theta 10 is 0.4636732451244573\n"
     ]
    }
   ],
   "source": [
    "i=0\n",
    "for theta in model_coeff:\n",
    "    print(f'theta {i} is {theta}')\n",
    "    i+=1"
   ]
  },
  {
   "cell_type": "code",
   "execution_count": 25,
   "metadata": {},
   "outputs": [],
   "source": [
    "def fit(X, y, phi, lmbd, pen):\n",
    "    '''\n",
    "    Fits a logistic regression model on the data (X, y), using the parameters\n",
    "    phi and lmbd. Returns the learned regression coefficients theta\n",
    "    '''\n",
    "    if lmbd == 0: # no regularization\n",
    "        theta = LogisticRegression(penalty=None, solver = 'saga', max_iter = 10000)\n",
    "    else:\n",
    "        # C is inverse of lambda\n",
    "        theta = LogisticRegression(penalty=pen, C=1/lmbd, solver = 'saga', max_iter= 10000)\n",
    "    \n",
    "    # Assuming phi is feature mask\n",
    "    theta.fit(X[:, phi], y)\n",
    "    # cofficients of model can be access by theta.coef_ and theta.intercept_\n",
    "    return theta\n",
    "\n",
    "\n",
    "def predict(X, phi, theta):\n",
    "    '''\n",
    "    Returns predictions for given model theta on phi(X).\n",
    "    '''\n",
    "    return theta.predict_proba(X[:, phi])\n",
    "\n",
    "\n",
    "def logloss(y, y_hat):\n",
    "    '''\n",
    "    Returns logistic loss between targets y and predictions y_hat.\n",
    "    '''\n",
    "    return log_loss(y, y_hat)\n",
    "\n",
    "\n",
    "def sweep_hyperparameters(X_train, y_train, X_val, y_val, lmbds, phis, pens):\n",
    "    '''\n",
    "    Finds the best settings of lambda and phi, and trains a logistic regression model with these parameters.\n",
    "    '''\n",
    "    best_lmbd, best_phi, best_theta = None, None, None\n",
    "    best_err = float('inf')\n",
    "    for pen in pens:\n",
    "        loss_tracker = []\n",
    "        for phi in phis:\n",
    "            for lmbd in lmbds:\n",
    "                # train model on train data\n",
    "                theta = fit(X_train, y_train, phi, lmbd, pen)\n",
    "                # evaluate on val data\n",
    "                y_pred = predict(X_val, phi, theta)\n",
    "                val_loss = logloss(y_val, y_pred)\n",
    "                loss_tracker.append(val_loss)\n",
    "                if val_loss < best_err:\n",
    "                    best_err = val_loss\n",
    "                    best_lmbd = lmbd\n",
    "                    best_phi = phi\n",
    "                    best_theta = theta\n",
    "            print(f'best lambda for {pen} is {best_lmbd}')\n",
    "        plt.plot(loss_tracker, label = pen)\n",
    "    plt.legend()\n",
    "    return best_lmbd, best_phi, best_theta\n",
    "\n",
    "def evaluate_model(theta, phi, X_test, y_test):\n",
    "    '''\n",
    "    Evaluates a trained logistic regression model.\n",
    "    '''\n",
    "    y_pred = predict(X_test, phi, theta)\n",
    "    test_loss = logloss(y_test, y_pred)\n",
    "    return test_loss\n",
    "\n",
    "\n",
    "def train_and_eval_model(X, y, X_test, y_test, lmbds, phis, pen):\n",
    "    '''\n",
    "    Uses a feature matrix X and labels y to train and evaluate\n",
    "    a logistic regression model.\n",
    "\n",
    "    Sweeps over all combinations of lambda and phi to choose the\n",
    "    best setting.\n",
    "    '''\n",
    "    # 1. Split data into groups\n",
    "    n_samples = len(X)\n",
    "    n_train = int(n_samples * 0.5)\n",
    "    n_val = int(n_samples * 0.25)\n",
    "    X_train, y_train = X[:n_train], y[:n_train]\n",
    "    X_val, y_val = X[n_train:n_train+n_val], y[n_train:n_train+n_val]\n",
    "    X_test, y_test = X[n_train+n_val:], y[n_train+n_val:]\n",
    "\n",
    "    # 2. Choose best hyperparameters and train model w/ these parameters\n",
    "    best_lmbd, best_phi, best_theta = sweep_hyperparameters(X_train, y_train, X_val, y_val, lmbds, phis, pen)\n",
    "    \n",
    "    # 3. Produce estimate of how model will perform on unseen data\n",
    "    test_loss = evaluate_model(best_theta, best_phi, X_test, y_test)\n",
    "    return best_lmbd, best_phi, best_theta, test_loss\n"
   ]
  },
  {
   "cell_type": "code",
   "execution_count": 26,
   "metadata": {},
   "outputs": [
    {
     "name": "stdout",
     "output_type": "stream",
     "text": [
      "best lambda for l1 is 0\n",
      "best lambda for l2 is 0\n",
      "Loss for lambda = is 0.08679988658203866\n"
     ]
    },
    {
     "data": {
      "image/png": "[encoded data removed]",
      "text/plain": [
       "<Figure size 640x480 with 1 Axes>"
      ]
     },
     "metadata": {},
     "output_type": "display_data"
    }
   ],
   "source": [
    "#N = 100\n",
    "#d = 5\n",
    "\n",
    "#phis = [np.random.choice(a=[True, False], size=d) for i in range(3)]\n",
    "# make sure at least one feature from each feature mask is selected\n",
    "#for phi in phis:\n",
    " #   phi[0] = True\n",
    "\n",
    "phis = [[True,True,True,True,True,True,True,True,True, True,True]]\n",
    "penalty = ['l1', 'l2']\n",
    "lmbds = [0, 0.1, 0.5, 1, 2, 5, 10, 20, 50, 100]\n",
    "best_lmbd, best_phi, best_theta, test_loss = train_and_eval_model(X, y, X_test, y_test, lmbds, phis, penalty)\n",
    "print(f'Loss for lambda = is {test_loss}')"
   ]
  },
  {
   "cell_type": "code",
   "execution_count": 22,
   "metadata": {},
   "outputs": [],
   "source": [
    "from itertools import combinations\n",
    "\n",
    "def generate_combinations():\n",
    "    # Generate all combinations of 2 True and 9 False\n",
    "    internal_combinations = list(combinations(range(11), 2))\n",
    "    all_combinations = []\n",
    "    for comb in internal_combinations:\n",
    "        lst = [False] * 11\n",
    "        for idx in comb:\n",
    "            lst[idx] = True\n",
    "        all_combinations.append(lst)\n",
    "    return all_combinations\n",
    "\n",
    "# Generate all combinations\n",
    "phi_list = generate_combinations()\n"
   ]
  },
  {
   "cell_type": "code",
   "execution_count": 36,
   "metadata": {},
   "outputs": [
    {
     "name": "stdout",
     "output_type": "stream",
     "text": [
      "[[ 1.63878731 21.70157618]]\n"
     ]
    }
   ],
   "source": [
    "print(best_theta.coef_)"
   ]
  },
  {
   "cell_type": "code",
   "execution_count": 38,
   "metadata": {},
   "outputs": [
    {
     "name": "stdout",
     "output_type": "stream",
     "text": [
      "[[ 1.63878731 21.70157618]]\n",
      "[False, False, False, False, True, True, False, False, False, False, False]\n",
      "[ 0.          0.          0.          0.          1.63878731 21.70157618\n",
      "  0.          0.          0.          0.          0.        ]\n"
     ]
    }
   ],
   "source": [
    "print(best_theta.coef_)\n",
    "print(best_phi)\n",
    "coefficient_acc = np.zeros(11)\n",
    "j=0\n",
    "for i in range(11):\n",
    "    if best_phi[i] == True:\n",
    "        coefficient_acc[i] = best_theta.coef_[0][j]\n",
    "        j += 1\n",
    "\n",
    "print(coefficient_acc)"
   ]
  },
  {
   "cell_type": "code",
   "execution_count": 39,
   "metadata": {},
   "outputs": [
    {
     "name": "stdout",
     "output_type": "stream",
     "text": [
      "best lambda for l1 is 5\n",
      "best lambda for l1 is 50\n",
      "best lambda for l1 is 50\n",
      "best lambda for l1 is 0\n",
      "best lambda for l1 is 0\n",
      "best lambda for l1 is 0\n",
      "best lambda for l1 is 0\n",
      "best lambda for l1 is 0\n",
      "best lambda for l1 is 0\n",
      "best lambda for l1 is 0\n",
      "best lambda for l1 is 0\n",
      "best lambda for l1 is 0\n",
      "best lambda for l1 is 0\n",
      "best lambda for l1 is 0\n",
      "best lambda for l1 is 0\n",
      "best lambda for l1 is 0\n",
      "best lambda for l1 is 0\n",
      "best lambda for l1 is 0\n",
      "best lambda for l1 is 0\n",
      "best lambda for l1 is 0\n",
      "best lambda for l1 is 0\n",
      "best lambda for l1 is 0\n",
      "best lambda for l1 is 0\n",
      "best lambda for l1 is 0\n",
      "best lambda for l1 is 0\n",
      "best lambda for l1 is 0\n",
      "best lambda for l1 is 0\n",
      "best lambda for l1 is 0\n",
      "best lambda for l1 is 0\n",
      "best lambda for l1 is 0\n",
      "best lambda for l1 is 0\n",
      "best lambda for l1 is 0\n",
      "best lambda for l1 is 0\n",
      "best lambda for l1 is 0\n",
      "best lambda for l1 is 0\n",
      "best lambda for l1 is 0\n",
      "best lambda for l1 is 0\n",
      "best lambda for l1 is 0\n",
      "best lambda for l1 is 0\n",
      "best lambda for l1 is 0\n",
      "best lambda for l1 is 0\n",
      "best lambda for l1 is 0\n",
      "best lambda for l1 is 0\n",
      "best lambda for l1 is 0\n",
      "best lambda for l1 is 0\n",
      "best lambda for l1 is 0\n",
      "best lambda for l1 is 0\n",
      "best lambda for l1 is 0\n",
      "best lambda for l1 is 0\n",
      "best lambda for l1 is 0\n",
      "best lambda for l1 is 0\n",
      "best lambda for l1 is 0\n",
      "best lambda for l1 is 0\n",
      "best lambda for l1 is 0\n",
      "best lambda for l1 is 0\n",
      "best lambda for l2 is 0\n",
      "best lambda for l2 is 0\n",
      "best lambda for l2 is 0\n",
      "best lambda for l2 is 0\n",
      "best lambda for l2 is 0\n",
      "best lambda for l2 is 0\n",
      "best lambda for l2 is 0\n",
      "best lambda for l2 is 0\n",
      "best lambda for l2 is 0\n",
      "best lambda for l2 is 0\n",
      "best lambda for l2 is 0\n",
      "best lambda for l2 is 0\n",
      "best lambda for l2 is 0\n",
      "best lambda for l2 is 0\n",
      "best lambda for l2 is 0\n",
      "best lambda for l2 is 0\n",
      "best lambda for l2 is 0\n",
      "best lambda for l2 is 0\n",
      "best lambda for l2 is 0\n",
      "best lambda for l2 is 0\n",
      "best lambda for l2 is 0\n",
      "best lambda for l2 is 0\n",
      "best lambda for l2 is 0\n",
      "best lambda for l2 is 0\n",
      "best lambda for l2 is 0\n",
      "best lambda for l2 is 0\n",
      "best lambda for l2 is 0\n",
      "best lambda for l2 is 0\n",
      "best lambda for l2 is 0\n",
      "best lambda for l2 is 0\n",
      "best lambda for l2 is 0\n",
      "best lambda for l2 is 0\n",
      "best lambda for l2 is 0\n",
      "best lambda for l2 is 0\n",
      "best lambda for l2 is 0\n",
      "best lambda for l2 is 0\n",
      "best lambda for l2 is 0\n",
      "best lambda for l2 is 0\n",
      "best lambda for l2 is 0\n",
      "best lambda for l2 is 0\n",
      "best lambda for l2 is 0\n",
      "best lambda for l2 is 0\n",
      "best lambda for l2 is 0\n",
      "best lambda for l2 is 0\n",
      "best lambda for l2 is 0\n",
      "best lambda for l2 is 0\n",
      "best lambda for l2 is 0\n",
      "best lambda for l2 is 0\n",
      "best lambda for l2 is 0\n",
      "best lambda for l2 is 0\n",
      "best lambda for l2 is 0\n",
      "best lambda for l2 is 0\n",
      "best lambda for l2 is 0\n",
      "best lambda for l2 is 0\n",
      "best lambda for l2 is 0\n",
      "best phi is [False, False, False, False, True, True, False, False, False, False, False]\n"
     ]
    },
    {
     "data": {
      "text/plain": [
       "1.0"
      ]
     },
     "execution_count": 39,
     "metadata": {},
     "output_type": "execute_result"
    },
    {
     "data": {
      "image/png": "[encoded data removed]",
      "text/plain": [
       "<Figure size 640x480 with 1 Axes>"
      ]
     },
     "metadata": {},
     "output_type": "display_data"
    }
   ],
   "source": [
    "penalty = ['l1', 'l2']\n",
    "lmbds = [0, 0.1, 0.5, 1, 2, 5, 10, 20, 50, 100]\n",
    "best_lmbd, best_phi, best_theta, test_loss = train_and_eval_model(X, y, X_test, y_test, lmbds, phi_list, penalty)\n",
    "print(f'best phi is {best_phi}')\n",
    "accuracy_check(X_test, y_test, coefficient_acc)"
   ]
  }
 ],
 "metadata": {
  "kernelspec": {
   "display_name": "Python 3",
   "language": "python",
   "name": "python3"
  },
  "language_info": {
   "codemirror_mode": {
    "name": "ipython",
    "version": 3
   },
   "file_extension": ".py",
   "mimetype": "text/x-python",
   "name": "python",
   "nbconvert_exporter": "python",
   "pygments_lexer": "ipython3",
   "version": "3.11.5"
  }
 },
 "nbformat": 4,
 "nbformat_minor": 2
}
