{
 "cells": [
  {
   "cell_type": "markdown",
   "metadata": {},
   "source": [
    "# Problem 1:"
   ]
  },
  {
   "cell_type": "markdown",
   "metadata": {},
   "source": [
    "### Question 1:"
   ]
  },
  {
   "cell_type": "code",
   "execution_count": null,
   "metadata": {},
   "outputs": [],
   "source": [
    "import matplotlib.pylab as plt\n",
    "import pandas as pd\n",
    "import numpy as np\n",
    "\n",
    "loss_dic ={}\n",
    "coeff_dic = {}\n",
    "#import necessary data\n",
    "data_train = pd.read_csv('wind_train.csv')\n",
    "data_test = pd.read_csv('wind_test.csv')"
   ]
  },
  {
   "cell_type": "code",
   "execution_count": null,
   "metadata": {},
   "outputs": [],
   "source": [
    "\n",
    "##### conduct data extraction to develop i-1 values for the regression\n",
    "X_cols = ['Wind', 'Rain', 'MaxTemp', 'MinTemp']\n",
    "y_col = 'Wind'\n",
    "\n",
    "# Shift feature columns by one day\n",
    "data_shifted = data_train[X_cols].shift(1)\n",
    "data_shifted.columns = [col + '_prev_day' for col in data_shifted.columns]\n",
    "\n",
    "data_shifted = data_shifted.dropna()\n",
    "\n",
    "# Create y the known value for windspeed\n",
    "y = data_train[y_col].iloc[1:]\n",
    "\n",
    "# Create X independent variable with  \n",
    "X = data_shifted\n",
    "\n",
    "# Convert to numpy arrays\n",
    "X = X.to_numpy()\n",
    "y = y.to_numpy()\n",
    "\n",
    "\n",
    "#####1.a#####\n",
    "\n",
    "model = np.linalg.lstsq(X, y, rcond=None)\n",
    "model_coeff = model[0]\n",
    "error_val = model[1]\n",
    "y_pred = X @ model_coeff\n",
    "X_for_pred = data_train[1:]\n",
    "\n",
    "\n",
    "#####1.b#####\n",
    "\n",
    "plt.figure(figsize=(12, 6))\n",
    "plt.plot(data_train['Date'], data_train['Wind'], 'o', label='Original data', markersize=1)\n",
    "plt.plot(X_for_pred['Date'], y_pred , 'r', label='Fitted line')\n",
    "plt.legend()\n",
    "plt.show()\n",
    "\n",
    "#####1.c#####\n",
    "\n",
    "print(f'thetas are: {model[0]}')\n",
    "print(f'training loss is {model[1]/1460}')\n",
    "loss_dic['model1'] = [model[1]/1460]\n",
    "coeff_dic['model1'] = model[0]\n",
    "train_loss = [np.mean((y_pred-y)**2)]\n",
    "loss_dic['model1'] = train_loss\n",
    "\"\"\"\n",
    "model_coeff = [ 0.74657977  0.13324713  0.293872   -0.30924845] which would resolve to be the theta's attached to the following features:\n",
    "previous day Wind = 0.74657977\n",
    "previous day Rain = 0.13324713\n",
    "previous day MaxTemp = 0.293872\n",
    "previous day MinTemp = -0.30924845\n",
    "\n",
    "The interpretation of these values for theta should be that when all other values are left the same, a unit change in one feature would\n",
    "result in a change in the wind speed of that value of theta.\n",
    "\n",
    "an example would be that if the previous days MinTemp was 1 higher, the wind value would be predicted 0.3092 lower\n",
    "\"\"\"\n",
    "\n",
    "\n",
    "# Shift feature columns by one day\n",
    "data_shifted_test = data_test[X_cols].shift(1)\n",
    "data_shifted_test.columns = [col + '_prev_day' for col in data_shifted_test.columns]\n",
    "\n",
    "data_shifted_test = data_shifted_test.dropna()\n",
    "\n",
    "# Create y the known value for windspeed\n",
    "y = data_test[y_col].iloc[1:]\n",
    "\n",
    "# Create X independent variable with  \n",
    "X = data_shifted_test\n",
    "\n",
    "# Convert to numpy arrays\n",
    "X_test = X.to_numpy()\n",
    "y_test = y.to_numpy()\n",
    "\n",
    "y_pred_test = X_test @ model_coeff\n",
    "test_loss = np.mean((y_pred_test-y_test)**2)\n",
    "loss_dic['model1'].append(test_loss)\n"
   ]
  },
  {
   "cell_type": "markdown",
   "metadata": {},
   "source": [
    "### Question 2"
   ]
  },
  {
   "cell_type": "markdown",
   "metadata": {},
   "source": [
    "Model 2:  Model 2 is not invertable.  Based on this the PLS formula is not valid.  The 5 X 1460 matrix has a rank of 4.  due to the nature that the MinTemp, MaxTemp and TempDiff are not linearly independent the rank is lower than the number of features.  For this reason it is not invertable."
   ]
  },
  {
   "cell_type": "markdown",
   "metadata": {},
   "source": [
    "Model 3: with the removal of MaxTemp, the rank of the matrix X in this case remains 4.  With the feature vector being 4 x 1460 the matrix is invertable and therefore the OLS formula can be applied."
   ]
  },
  {
   "cell_type": "code",
   "execution_count": null,
   "metadata": {},
   "outputs": [],
   "source": [
    "X_cols = ['Wind', 'Rain', 'MaxTemp', 'MinTemp', 'TempDiff']\n",
    "y_col = 'Wind'\n",
    "\n",
    "#create new value for differential temperature\n",
    "x_new = data_train['MaxTemp']-data_train['MinTemp']\n",
    "data_train['TempDiff'] = x_new\n",
    "\n",
    "# Shift feature columns by one day\n",
    "data_shifted = data_train[X_cols].shift(1)\n",
    "data_shifted.columns = [col + '_prev_day' for col in data_shifted.columns]\n",
    "\n",
    "data_shifted = data_shifted.dropna()\n",
    "del data_shifted['MaxTemp_prev_day']\n",
    "# Create y the known value for windspeed\n",
    "y = data_train[y_col].iloc[1:]\n",
    "\n",
    "# Create X independent variable with  \n",
    "X = data_shifted\n",
    "\n",
    "# Convert to numpy arrays\n",
    "X = X.to_numpy()\n",
    "y = y.to_numpy()\n",
    "\n",
    "\n",
    "\n",
    "\n",
    "model = np.linalg.lstsq(X, y, rcond=None)\n",
    "model_coeff = model[0]\n",
    "error_val = model[1]\n",
    "y_pred = X @ model_coeff\n",
    "X_for_pred = data_train[1:]\n",
    "print(f'thetas are: {model[0]}')\n",
    "print(f'training loss is {model[1]/1460}')\n",
    "\n",
    "coeff_dic['model3'] = model[0]\n",
    "train_loss = [np.mean((y_pred-y)**2)]\n",
    "loss_dic['model3'] = train_loss\n",
    "\n",
    "#######\n",
    "\n",
    "#create new value for differential temperature\n",
    "x_new = data_test['MaxTemp']-data_test['MinTemp']\n",
    "data_test['TempDiff'] = x_new\n",
    "\n",
    "# Shift feature columns by one day\n",
    "data_shifted_test = data_test[X_cols].shift(1)\n",
    "data_shifted_test.columns = [col + '_prev_day' for col in data_shifted_test.columns]\n",
    "\n",
    "data_shifted_test = data_shifted_test.dropna()\n",
    "del data_shifted_test['MaxTemp_prev_day']\n",
    "\n",
    "\n",
    "\n",
    "# Create y the known value for windspeed\n",
    "y = data_test[y_col].iloc[1:]\n",
    "\n",
    "# Create X independent variable with  \n",
    "X = data_shifted_test\n",
    "\n",
    "# Convert to numpy arrays\n",
    "X_test = X.to_numpy()\n",
    "y_test = y.to_numpy()\n",
    "\n",
    "y_pred_test = X_test @ model_coeff\n",
    "test_loss = np.mean((y_pred_test-y_test)**2)\n",
    "loss_dic['model3'].append(test_loss)"
   ]
  },
  {
   "cell_type": "markdown",
   "metadata": {},
   "source": [
    "Mark 4: with the introduction of nonlinearity through the squareroot of the differential temperature the rank of this matrix is now 5.  That included with the features matrix being 5 x 1460 shows that this matrix is invertable."
   ]
  },
  {
   "cell_type": "code",
   "execution_count": null,
   "metadata": {},
   "outputs": [],
   "source": [
    "X_cols = ['Wind', 'Rain', 'MaxTemp', 'MinTemp', 'TempDiff']\n",
    "y_col = 'Wind'\n",
    "\n",
    "#create new value for differential temperature\n",
    "x_new = data_train['MaxTemp']-data_train['MinTemp']\n",
    "x_new_sqrt = x_new.apply(np.sqrt)\n",
    "data_train['TempDiff'] = x_new_sqrt\n",
    "\n",
    "# Shift feature columns by one day\n",
    "data_shifted = data_train[X_cols].shift(1)\n",
    "data_shifted.columns = [col + '_prev_day' for col in data_shifted.columns]\n",
    "\n",
    "data_shifted = data_shifted.dropna()\n",
    "\n",
    "# Create y the known value for windspeed\n",
    "y = data_train[y_col].iloc[1:]\n",
    "\n",
    "# Create X independent variable with  \n",
    "X = data_shifted\n",
    "\n",
    "# Convert to numpy arrays\n",
    "X = X.to_numpy()\n",
    "y = y.to_numpy()\n",
    "\n",
    "\n",
    "model = np.linalg.lstsq(X, y, rcond=None)\n",
    "model_coeff = model[0]\n",
    "error_val = model[1]\n",
    "y_pred = X @ model_coeff\n",
    "X_for_pred = data_train[1:]\n",
    "print(f'thetas are: {model[0]}')\n",
    "print(f'training loss is {model[1]/1460}')\n",
    "coeff_dic['model4'] = model[0]\n",
    "train_loss = np.mean((y_pred-y)**2)\n",
    "loss_dic['model4'] = [train_loss]\n",
    "\n",
    "\n",
    "#######\n",
    "\n",
    "\n",
    "# Shift feature columns by one day\n",
    "data_shifted_test = data_test[X_cols].shift(1)\n",
    "data_shifted_test.columns = [col + '_prev_day' for col in data_shifted_test.columns]\n",
    "\n",
    "data_shifted_test = data_shifted_test.dropna()\n",
    "\n",
    "# Create y the known value for windspeed\n",
    "y = data_test[y_col].iloc[1:]\n",
    "\n",
    "# Create X independent variable with  \n",
    "X = data_shifted_test\n",
    "\n",
    "# Convert to numpy arrays\n",
    "X_test = X.to_numpy()\n",
    "y_test = y.to_numpy()\n",
    "\n",
    "y_pred_test = X_test @ model_coeff\n",
    "test_loss = np.mean((y_pred_test-y_test)**2)\n",
    "loss_dic['model4'].append(test_loss)"
   ]
  },
  {
   "cell_type": "code",
   "execution_count": null,
   "metadata": {},
   "outputs": [],
   "source": [
    "df_loss = pd.DataFrame.from_dict(loss_dic)\n",
    "df_loss.index = ['train_loss', 'test_loss']\n",
    "print(f\"model 1 coefficients are {coeff_dic['model1']}\")\n",
    "print(f\"model 3 coefficients are {coeff_dic['model3']}\")\n",
    "print(f\"model 4 coefficients are {coeff_dic['model4']}\")"
   ]
  },
  {
   "cell_type": "code",
   "execution_count": null,
   "metadata": {},
   "outputs": [],
   "source": [
    "print('Loss Values for the applicable models')\n",
    "print(df_loss) "
   ]
  },
  {
   "cell_type": "markdown",
   "metadata": {},
   "source": [
    "### Question 3"
   ]
  },
  {
   "cell_type": "code",
   "execution_count": null,
   "metadata": {},
   "outputs": [],
   "source": [
    "#I want to make a list x which has numbers from -1 to 1 in 0.01 increments\n",
    "X = np.arange(-1, 1, 0.01)\n",
    "y = 2*np.exp(X)-2*X-2\n",
    "plt.plot(X, y)"
   ]
  },
  {
   "cell_type": "markdown",
   "metadata": {},
   "source": [
    "The implementation of this new loss function provides a higher rate of increase for the loss when x>1 as seen by y = 1.4 at x=1 and 0.8 at x=-1"
   ]
  },
  {
   "cell_type": "markdown",
   "metadata": {},
   "source": [
    "# Problem 2:"
   ]
  },
  {
   "cell_type": "markdown",
   "metadata": {},
   "source": [
    "##Question a"
   ]
  },
  {
   "cell_type": "code",
   "execution_count": 1,
   "metadata": {},
   "outputs": [],
   "source": [
    "import matplotlib.pylab as plt\n",
    "import pandas as pd\n",
    "import numpy as np\n",
    "from sklearn.linear_model import LogisticRegression\n",
    "from sklearn.metrics import log_loss\n",
    "\n",
    "#import necessary data\n",
    "data_train = pd.read_csv('forest_fires_train.csv')\n",
    "data_test = pd.read_csv('forest_fires_test.csv')"
   ]
  },
  {
   "cell_type": "code",
   "execution_count": 4,
   "metadata": {},
   "outputs": [],
   "source": [
    "##### conduct data extraction to develop i-1 values for the regression\n",
    "\n",
    "X = data_train.iloc[:, 3:-1] \n",
    "y = data_train.iloc[:, -1]\n",
    "X = X.to_numpy()\n",
    "\n",
    "y = y.to_numpy()\n",
    "#standardize X\n",
    "X = (X - X.mean(axis=0)) / X.std(axis=0)\n",
    "#add column of ones at front of x for theta0\n",
    "X = np.column_stack((np.ones(X.shape[0]), X))\n",
    "\n",
    "\n"
   ]
  },
  {
   "cell_type": "code",
   "execution_count": 27,
   "metadata": {},
   "outputs": [
    {
     "data": {
      "image/png": "[encoded data removed]",
      "text/plain": [
       "<Figure size 640x480 with 1 Axes>"
      ]
     },
     "metadata": {},
     "output_type": "display_data"
    }
   ],
   "source": [
    "#create sigmoid function\n",
    "def sigmoid(z):\n",
    "    return 1 / (1 + np.exp(-z))\n",
    "\n",
    "def accuracy_check(X, y, theta):\n",
    "    z = np.dot(X, theta)\n",
    "    h = sigmoid(z)\n",
    "    y_pred = np.round(h)\n",
    "    accuracy = np.mean(y_pred == y)\n",
    "    return accuracy\n",
    "\n",
    "def logistic_regression_gradient_descent(X, y, lamb, learning_rate=0.01, iterations=1000):\n",
    "    loss_track = []\n",
    "    accuracy_track = []\n",
    "    m, n = X.shape\n",
    "    theta = np.zeros(n)\n",
    "    for _ in range(iterations):\n",
    "        z = np.dot(X, theta)\n",
    "        h = sigmoid(z)\n",
    "        loss = -1/m * np.sum(y * np.log(h) + (1 - y) * np.log(1 - h))\n",
    "        loss_track.append(loss)\n",
    "        accuracy_track.append(accuracy_check(X, y, theta))\n",
    "        gradient = np.dot(X.T, (h - y)) / m + (lamb / m) * theta\n",
    "        theta -= learning_rate * gradient\n",
    "        \n",
    "    plt.plot(loss_track)\n",
    "    plt.plot(accuracy_track)\n",
    "\n",
    "    return theta\n",
    "\n",
    "\n",
    "model_coeff = logistic_regression_gradient_descent(X, y, 1)"
   ]
  },
  {
   "cell_type": "code",
   "execution_count": 25,
   "metadata": {},
   "outputs": [
    {
     "name": "stdout",
     "output_type": "stream",
     "text": [
      "theta 0 is 1.5046555255424432\n",
      "theta 1 is 0.7653518158541136\n",
      "theta 2 is -0.2695588145628736\n",
      "theta 3 is 0.3264129435366865\n",
      "theta 4 is -0.11728033580497407\n",
      "theta 5 is 1.9659870141615081\n",
      "theta 6 is 0.2368541449663433\n",
      "theta 7 is 0.3553610961283511\n",
      "theta 8 is 0.8315729356278864\n",
      "theta 9 is 0.2868064697509926\n",
      "theta 10 is 0.7999450207284415\n"
     ]
    }
   ],
   "source": [
    "i=0\n",
    "for theta in model_coeff:\n",
    "    print(f'theta {i} is {theta}')\n",
    "    i+=1"
   ]
  },
  {
   "cell_type": "code",
   "execution_count": 36,
   "metadata": {},
   "outputs": [
    {
     "name": "stderr",
     "output_type": "stream",
     "text": [
      "c:\\Users\\fenst\\AppData\\Local\\Programs\\Python\\Python311\\Lib\\site-packages\\sklearn\\linear_model\\_logistic.py:1183: FutureWarning: `penalty='none'`has been deprecated in 1.2 and will be removed in 1.4. To keep the past behaviour, set `penalty=None`.\n",
      "  warnings.warn(\n",
      "c:\\Users\\fenst\\AppData\\Local\\Programs\\Python\\Python311\\Lib\\site-packages\\sklearn\\linear_model\\_logistic.py:1183: FutureWarning: `penalty='none'`has been deprecated in 1.2 and will be removed in 1.4. To keep the past behaviour, set `penalty=None`.\n",
      "  warnings.warn(\n"
     ]
    },
    {
     "name": "stdout",
     "output_type": "stream",
     "text": [
      "Loss for lambda = is 1.5018188912132147\n"
     ]
    },
    {
     "data": {
      "image/png": "[encoded data removed]",
      "text/plain": [
       "<Figure size 640x480 with 1 Axes>"
      ]
     },
     "metadata": {},
     "output_type": "display_data"
    }
   ],
   "source": [
    "def fit(X, y, lmbd, pen):\n",
    "    '''\n",
    "    Fits a logistic regression model on the data (X, y), using the parameters\n",
    "    phi and lmbd. Returns the learned regression coefficients theta\n",
    "\n",
    "    '''\n",
    "    if lmbd == 0: # no regularization\n",
    "        theta = LogisticRegression(penalty='none', solver='saga', max_iter=10000)\n",
    "    else:\n",
    "        # C is inverse of lambda\n",
    "        theta = LogisticRegression(penalty= pen, C=1/lmbd, solver='saga', max_iter=10000)\n",
    "    \n",
    "    # Assuming phi is feature mask\n",
    "    theta.fit(X, y)\n",
    "    # cofficients of model can be access by theta.coef_ and theta.intercept_\n",
    "    return theta\n",
    "\n",
    "\n",
    "def predict(X, theta):\n",
    "    '''\n",
    "    Returns predictions for given model theta on phi(X).\n",
    "\n",
    "    '''\n",
    "    return theta.predict(X)\n",
    "\n",
    "\n",
    "def logloss(y, y_hat):\n",
    "    '''\n",
    "    Returns logistic loss between targets y and predictions y_hat.\n",
    "\n",
    "    '''\n",
    "    return log_loss(y, y_hat)\n",
    "\n",
    "def train_and_eval_model(X, y, lmbds, penalties):\n",
    "    '''\n",
    "    Uses a feature matrix X and labels y to train and evaluate\n",
    "    a logistic regression model.\n",
    "\n",
    "    '''\n",
    "    # 1. Split data into groups\n",
    "    n_samples = len(X)\n",
    "    n_train = int(n_samples * 0.7)\n",
    "    n_val = int(n_samples * 0.3)\n",
    "    X_train, y_train = X[:n_train], y[:n_train]\n",
    "    X_val, y_val = X[n_train:n_train+n_val], y[n_train:n_train+n_val]\n",
    "   \n",
    "\n",
    "    # 2. Choose best hyperparameters and train model w/ these parameters\n",
    "    best_lamb = []\n",
    "    loss_track = []\n",
    "    loss_tracker = 999999999999\n",
    "    best_phi = 0\n",
    "    best_lmbd = 0\n",
    "    for penalty in penalties:\n",
    "        for lamb in lmbds:\n",
    "            theta = fit(X_train, y_train, lamb, penalty)\n",
    "            pred = predict(X_val, theta)\n",
    "            loss = logloss(y_val, pred)\n",
    "            if loss < loss_tracker:\n",
    "                loss_tracker = loss\n",
    "                best_lmbd = lamb\n",
    "                best_theta = theta\n",
    "            loss_track.append(loss)\n",
    "        best_lamb.append(best_lmbd)\n",
    "        plt.plot(loss_track)\n",
    "    \n",
    "\n",
    "    # 3. Produce estimate of how model will perform on unseen data\n",
    "    pred = predict(X_val, theta)\n",
    "    loss = logloss(y_val,pred)\n",
    "    return loss, best_lamb\n",
    "\n",
    "penalty = ['l1', 'l2']\n",
    "lmbds = [0, 0.1, 0.5, 1, 2, 5, 10, 20, 50, 100]\n",
    "loss, best_lamb = train_and_eval_model(X, y, lmbds, penalty)\n",
    "print(f'Loss for lambda = is {loss}')"
   ]
  }
 ],
 "metadata": {
  "kernelspec": {
   "display_name": "Python 3",
   "language": "python",
   "name": "python3"
  },
  "language_info": {
   "codemirror_mode": {
    "name": "ipython",
    "version": 3
   },
   "file_extension": ".py",
   "mimetype": "text/x-python",
   "name": "python",
   "nbconvert_exporter": "python",
   "pygments_lexer": "ipython3",
   "version": "3.11.5"
  }
 },
 "nbformat": 4,
 "nbformat_minor": 2
}
