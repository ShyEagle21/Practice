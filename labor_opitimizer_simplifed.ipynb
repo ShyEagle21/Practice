{
 "cells": [
  {
   "cell_type": "code",
   "execution_count": 8,
   "metadata": {},
   "outputs": [
    {
     "name": "stdout",
     "output_type": "stream",
     "text": [
      "R^2: 0.8289635559365438\n",
      "Coefficients: [[-2.71004971  1.69774396  4.4220405 ]]\n",
      "Intercept: [44.95129129]\n"
     ]
    }
   ],
   "source": [
    "import pandas as pd\n",
    "from sklearn.model_selection import train_test_split\n",
    "from sklearn.linear_model import LinearRegression\n",
    "from sklearn.metrics import r2_score\n",
    "from sklearn.preprocessing import StandardScaler\n",
    "\n",
    "# Load the CSV file\n",
    "file_path = 'TM_60.csv'  # Replace with your file path\n",
    "data = pd.read_csv(file_path)\n",
    "X = data[['TLMD', 'NC', 'TFC']]\n",
    "\n",
    "# Assuming the last column is the target variable\n",
    "y = data[[\"Productivity\"]]   # Target\n",
    "\n",
    "scaler = StandardScaler()\n",
    "X = scaler.fit_transform(X)\n",
    "\n",
    "# Split the data into training and testing sets\n",
    "X_train, X_test, y_train, y_test = train_test_split(X, y, test_size=0.2, random_state=42)\n",
    "\n",
    "# Create and train the model\n",
    "model = LinearRegression()\n",
    "model.fit(X_train, y_train)\n",
    "\n",
    "# Make predictions\n",
    "y_pred = model.predict(X_test)\n",
    "\n",
    "# Evaluate the model\n",
    "\n",
    "r2 = r2_score(y_test, y_pred)\n",
    "print(f'R^2: {r2}')\n",
    "\n",
    "# Optional: Print the coefficients\n",
    "print('Coefficients:', model.coef_)\n",
    "print('Intercept:', model.intercept_)\n",
    "\n"
   ]
  },
  {
   "cell_type": "code",
   "execution_count": 9,
   "metadata": {},
   "outputs": [
    {
     "name": "stdout",
     "output_type": "stream",
     "text": [
      "R^2: 0.8613050950454773\n",
      "Coefficients: [[-3.22666885  1.33770363  3.44425925]]\n",
      "Intercept: [46.48689918]\n",
      "R^2: 0.9072484890434039\n",
      "Coefficients: [[-3.57526888  1.42486395  4.07677586]]\n",
      "Intercept: [48.63994803]\n",
      "R^2: 0.8846702647031309\n",
      "Coefficients: [[-3.06826731  1.60047429  3.99613939]]\n",
      "Intercept: [45.80311096]\n",
      "R^2: 0.8427958356103279\n",
      "Coefficients: [[-2.80430757  1.65294691  4.17358371]]\n",
      "Intercept: [45.45902072]\n",
      "R^2: 0.8289635559365438\n",
      "Coefficients: [[-2.71004971  1.69774396  4.4220405 ]]\n",
      "Intercept: [44.95129129]\n",
      "R^2: 0.8606790068117739\n",
      "Coefficients: [[-2.29176784  1.9458443   4.82988745]]\n",
      "Intercept: [44.22477513]\n",
      "R^2: 0.8289635559365438\n",
      "Coefficients: [[-2.71004971  1.69774396  4.4220405 ]]\n",
      "Intercept: [44.95129129]\n",
      "R^2: 0.6934867747626072\n",
      "Coefficients: [[-1.5361623   2.18051282  3.31547759]]\n",
      "Intercept: [40.40233266]\n",
      "R^2: 0.2423025892764883\n",
      "Coefficients: [[-0.94090012  2.79579588  1.39376699]]\n",
      "Intercept: [37.67335463]\n",
      "[array([[-3.22666885,  1.33770363,  3.44425925]]), array([[-3.57526888,  1.42486395,  4.07677586]]), array([[-3.06826731,  1.60047429,  3.99613939]]), array([[-2.80430757,  1.65294691,  4.17358371]]), array([[-2.71004971,  1.69774396,  4.4220405 ]]), array([[-2.29176784,  1.9458443 ,  4.82988745]]), array([[-2.71004971,  1.69774396,  4.4220405 ]]), array([[-1.5361623 ,  2.18051282,  3.31547759]]), array([[-0.94090012,  2.79579588,  1.39376699]])]\n"
     ]
    }
   ],
   "source": [
    "import pandas as pd\n",
    "from sklearn.model_selection import train_test_split\n",
    "from sklearn.linear_model import LinearRegression\n",
    "from sklearn.metrics import r2_score\n",
    "from sklearn.preprocessing import StandardScaler\n",
    "\n",
    "file_paths = ['TM_80.csv', 'TM_75.csv', 'TM_70.csv', 'TM_65.csv', 'TM_60.csv', 'TM_55.csv', 'TM_50.csv', 'TM_45.csv', 'TM_40.csv']\n",
    "coefficients = []\n",
    "# Load the CSV file\n",
    "for file_path in file_paths:\n",
    "    data = pd.read_csv(file_path)\n",
    "    X = data[['TLMD', 'NC', 'TFC']]\n",
    "\n",
    "    # Assuming the last column is the target variable\n",
    "    y = data[[\"Productivity\"]]   # Target\n",
    "\n",
    "    scaler = StandardScaler()\n",
    "    X = scaler.fit_transform(X)\n",
    "\n",
    "    # Split the data into training and testing sets\n",
    "    X_train, X_test, y_train, y_test = train_test_split(X, y, test_size=0.2, random_state=42)\n",
    "\n",
    "    # Create and train the model\n",
    "    model = LinearRegression()\n",
    "    model.fit(X_train, y_train)\n",
    "\n",
    "    # Make predictions\n",
    "    y_pred = model.predict(X_test)\n",
    "\n",
    "    # Evaluate the model\n",
    "\n",
    "    r2 = r2_score(y_test, y_pred)\n",
    "    print(f'R^2: {r2}')\n",
    "\n",
    "    # Optional: Print the coefficients\n",
    "    print('Coefficients:', model.coef_)\n",
    "    print('Intercept:', model.intercept_)\n",
    "    coefficients.append(model.coef_)\n",
    "\n",
    "print(coefficients)\n",
    "\n"
   ]
  },
  {
   "cell_type": "code",
   "execution_count": null,
   "metadata": {},
   "outputs": [],
   "source": []
  },
  {
   "cell_type": "code",
   "execution_count": 7,
   "metadata": {},
   "outputs": [
    {
     "name": "stdout",
     "output_type": "stream",
     "text": [
      "Ridge R^2: 0.8288245354876381\n",
      "Lasso R^2: 0.8250330805310185\n",
      "Ridge Coefficients: [[-2.71049595  1.69029988  4.41122807]]\n",
      "Ridge Intercept: [44.95141802]\n",
      "Lasso Coefficients: [-2.69692362  1.53625376  4.26741262]\n",
      "Lasso Intercept: [44.95257166]\n"
     ]
    }
   ],
   "source": [
    "import pandas as pd\n",
    "from sklearn.model_selection import train_test_split\n",
    "from sklearn.linear_model import Ridge, Lasso\n",
    "from sklearn.metrics import r2_score\n",
    "from sklearn.preprocessing import StandardScaler\n",
    "\n",
    "# Load the CSV file\n",
    "file_path = 'TM_60.csv'  # Replace with your file path\n",
    "data = pd.read_csv(file_path)\n",
    "X = data[['TLMD', 'NC', 'TFC']]\n",
    "\n",
    "# Assuming the last column is the target variable\n",
    "y = data[[\"Productivity\"]]   # Target\n",
    "\n",
    "# Standardize the features\n",
    "scaler = StandardScaler()\n",
    "X = scaler.fit_transform(X)\n",
    "\n",
    "# Split the data into training and testing sets\n",
    "X_train, X_test, y_train, y_test = train_test_split(X, y, test_size=0.2, random_state=42)\n",
    "\n",
    "# Ridge Regression\n",
    "ridge_model = Ridge(alpha=1.0)\n",
    "ridge_model.fit(X_train, y_train)\n",
    "ridge_pred = ridge_model.predict(X_test)\n",
    "ridge_r2 = r2_score(y_test, ridge_pred)\n",
    "print(f'Ridge R^2: {ridge_r2}')\n",
    "\n",
    "# Lasso Regression\n",
    "lasso_model = Lasso(alpha=0.1)\n",
    "lasso_model.fit(X_train, y_train)\n",
    "lasso_pred = lasso_model.predict(X_test)\n",
    "lasso_r2 = r2_score(y_test, lasso_pred)\n",
    "print(f'Lasso R^2: {lasso_r2}')\n",
    "\n",
    "# Optional: Print the coefficients for Ridge and Lasso\n",
    "print('Ridge Coefficients:', ridge_model.coef_)\n",
    "print('Ridge Intercept:', ridge_model.intercept_)\n",
    "print('Lasso Coefficients:', lasso_model.coef_)\n",
    "print('Lasso Intercept:', lasso_model.intercept_)\n"
   ]
  },
  {
   "cell_type": "code",
   "execution_count": 11,
   "metadata": {},
   "outputs": [
    {
     "name": "stdout",
     "output_type": "stream",
     "text": [
      "Accuracy: 0.95\n",
      "Coefficients: [[-0.0007314  -0.00115745 -0.00079146  0.41433499]]\n",
      "Intercept: [-8.34770905]\n"
     ]
    },
    {
     "data": {
      "image/png": "[encoded data removed]",
      "text/plain": [
       "<Figure size 640x480 with 2 Axes>"
      ]
     },
     "metadata": {},
     "output_type": "display_data"
    }
   ],
   "source": [
    "import pandas as pd\n",
    "from sklearn.model_selection import train_test_split\n",
    "from sklearn.linear_model import LogisticRegression\n",
    "from sklearn.metrics import accuracy_score, confusion_matrix\n",
    "import seaborn as sns\n",
    "import matplotlib.pyplot as plt\n",
    "\n",
    "# Load the CSV file\n",
    "file_path = 'Combined_Optimization_Results.csv'\n",
    "data = pd.read_csv(file_path)\n",
    "\n",
    "# Select the features and target\n",
    "features = data[['TLMD', 'NC', 'TFC', 'Total HC']]\n",
    "target = data['Completed']\n",
    "\n",
    "# Split the data into training and testing sets\n",
    "X_train, X_test, y_train, y_test = train_test_split(features, target, test_size=0.2, random_state=42)\n",
    "\n",
    "# Initialize and train the logistic regression model\n",
    "model = LogisticRegression()\n",
    "model.fit(X_train, y_train)\n",
    "\n",
    "# Make predictions on the test set\n",
    "y_pred = model.predict(X_test)\n",
    "\n",
    "# Evaluate the model\n",
    "accuracy = accuracy_score(y_test, y_pred)\n",
    "print(f'Accuracy: {accuracy:.2f}')\n",
    "print('Coefficients:', model.coef_)\n",
    "print('Intercept:', model.intercept_)\n",
    "\n",
    "# Generate the confusion matrix\n",
    "conf_matrix = confusion_matrix(y_test, y_pred)\n",
    "\n",
    "# Plot the confusion matrix\n",
    "sns.heatmap(conf_matrix, annot=True, fmt='d', cmap='Blues')\n",
    "plt.xlabel('Predicted')\n",
    "plt.ylabel('Actual')\n",
    "plt.title('Confusion Matrix')\n",
    "plt.show()\n"
   ]
  },
  {
   "cell_type": "code",
   "execution_count": null,
   "metadata": {},
   "outputs": [],
   "source": []
  }
 ],
 "metadata": {
  "kernelspec": {
   "display_name": "Python 3",
   "language": "python",
   "name": "python3"
  },
  "language_info": {
   "codemirror_mode": {
    "name": "ipython",
    "version": 3
   },
   "file_extension": ".py",
   "mimetype": "text/x-python",
   "name": "python",
   "nbconvert_exporter": "python",
   "pygments_lexer": "ipython3",
   "version": "3.12.2"
  }
 },
 "nbformat": 4,
 "nbformat_minor": 2
}
