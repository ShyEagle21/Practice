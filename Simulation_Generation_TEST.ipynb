{
 "cells": [
  {
   "cell_type": "code",
   "execution_count": 1,
   "metadata": {},
   "outputs": [],
   "source": [
    "import volume_predictor as vp\n",
    "import demand_generator as dg\n",
    "import numpy as np\n",
    "import pandas as pd\n",
    "import random"
   ]
  },
  {
   "cell_type": "code",
   "execution_count": 2,
   "metadata": {},
   "outputs": [
    {
     "name": "stdout",
     "output_type": "stream",
     "text": [
      "Package Count Prediction MAE: 1221.1454545454546\n",
      "Package Count R2: 0.7727269836067745\n",
      "Model saved to trained_model.pkl\n"
     ]
    }
   ],
   "source": [
    "#Train Model if necessary or want to update the model\n",
    "\n",
    "csv_file_path = 'Inbound_predict_data.csv'\n",
    "model_file_path = 'trained_model.pkl'\n",
    "vp.train_and_save_model(csv_file_path, model_file_path)\n"
   ]
  },
  {
   "cell_type": "code",
   "execution_count": 3,
   "metadata": {},
   "outputs": [
    {
     "name": "stdout",
     "output_type": "stream",
     "text": [
      "Predicted Total Volume: 15706\n"
     ]
    }
   ],
   "source": [
    "\n",
    "#Predict Volume\n",
    "\n",
    "# Example usage\n",
    "model_file_path = 'trained_model.pkl'\n",
    "model = vp.load_model(model_file_path)\n",
    "\n",
    "# Example feature values\n",
    "feature_values = {\n",
    "    'yesterday_total_packages': 16152,\n",
    "    'RAFT_known_shipped_pkg_count': 5264,\n",
    "    'RAFT_predicted_carryover_pkg_count': 28,\n",
    "    'RAFT_predicted_total_handoff_pkg_count': 6594,\n",
    "    'Day of Week_Sunday': 0,\n",
    "    'Day of Week_Monday': 1,\n",
    "    'Day of Week_Tuesday': 0,\n",
    "    'Day of Week_Wednesday': 0,\n",
    "    'Day of Week_Thursday': 0,\n",
    "    'Day of Week_Friday': 0,\n",
    "    'Day of Week_Saturday': 0,\n",
    "    'Promotion': 0,\n",
    "    'TMAX': 36.2,\n",
    "    'TMIN': 31.8,\n",
    "    'AWND': 9.87,\n",
    "    'PRCP': 0.912,\n",
    "    'SNOW': 6.14\n",
    "}\n",
    "\n",
    "predicted_volume = vp.predict_volume(model, feature_values)\n",
    "print(f'Predicted Total Volume: {predicted_volume}')\n"
   ]
  },
  {
   "cell_type": "code",
   "execution_count": 4,
   "metadata": {},
   "outputs": [
    {
     "name": "stderr",
     "output_type": "stream",
     "text": [
      "c:\\Users\\fenst\\Documents\\Python\\Practice\\demand_generator.py:60: SettingWithCopyWarning: \n",
      "A value is trying to be set on a copy of a slice from a DataFrame.\n",
      "Try using .loc[row_indexer,col_indexer] = value instead\n",
      "\n",
      "See the caveats in the documentation: https://pandas.pydata.org/pandas-docs/stable/user_guide/indexing.html#returning-a-view-versus-a-copy\n",
      "  filtered_df['planned_arrival_datetime'] = pd.to_datetime(filtered_df['planned_arrival_datetime'])\n",
      "c:\\Users\\fenst\\Documents\\Python\\Practice\\demand_generator.py:61: SettingWithCopyWarning: \n",
      "A value is trying to be set on a copy of a slice from a DataFrame.\n",
      "Try using .loc[row_indexer,col_indexer] = value instead\n",
      "\n",
      "See the caveats in the documentation: https://pandas.pydata.org/pandas-docs/stable/user_guide/indexing.html#returning-a-view-versus-a-copy\n",
      "  filtered_df['actual_arrival_datetime'] = pd.to_datetime(filtered_df['actual_arrival_datetime'])\n"
     ]
    }
   ],
   "source": [
    "df_package_distribution, TFC_vol, TFC_arrival_minutes = dg.generate_demand('linehaul_all_predict - Copy.csv', 3858, predicted_volume, '2024-09-01')"
   ]
  },
  {
   "cell_type": "code",
   "execution_count": 5,
   "metadata": {},
   "outputs": [
    {
     "name": "stdout",
     "output_type": "stream",
     "text": [
      "[{'Truck Number': 1, 'pallets': [{'TLMD': 30, 'FDEG': 6, 'UPSN': 6, 'USPS': 13, 'FDE': 0}, {'TLMD': 27, 'FDEG': 12, 'UPSN': 6, 'USPS': 5, 'FDE': 0}, {'TLMD': 38, 'FDEG': 16, 'UPSN': 8, 'USPS': 9, 'FDE': 0}, {'TLMD': 29, 'FDEG': 14, 'UPSN': 4, 'USPS': 2, 'FDE': 0}, {'TLMD': 25, 'FDEG': 14, 'UPSN': 12, 'USPS': 8, 'FDE': 0}, {'TLMD': 21, 'FDEG': 10, 'UPSN': 7, 'USPS': 4, 'FDE': 0}, {'TLMD': 26, 'FDEG': 16, 'UPSN': 13, 'USPS': 5, 'FDE': 0}, {'TLMD': 25, 'FDEG': 14, 'UPSN': 8, 'USPS': 12, 'FDE': 0}, {'TLMD': 23, 'FDEG': 13, 'UPSN': 12, 'USPS': 8, 'FDE': 0}, {'TLMD': 23, 'FDEG': 9, 'UPSN': 9, 'USPS': 10, 'FDE': 0}, {'TLMD': 32, 'FDEG': 13, 'UPSN': 10, 'USPS': 6, 'FDE': 0}, {'TLMD': 28, 'FDEG': 18, 'UPSN': 10, 'USPS': 6, 'FDE': 0}, {'TLMD': 32, 'FDEG': 14, 'UPSN': 4, 'USPS': 10, 'FDE': 1}]}, {'Truck Number': 2, 'pallets': [{'TLMD': 24, 'FDEG': 11, 'UPSN': 2, 'USPS': 7, 'FDE': 0}, {'TLMD': 26, 'FDEG': 15, 'UPSN': 7, 'USPS': 9, 'FDE': 0}, {'TLMD': 32, 'FDEG': 16, 'UPSN': 7, 'USPS': 10, 'FDE': 1}, {'TLMD': 39, 'FDEG': 10, 'UPSN': 12, 'USPS': 3, 'FDE': 0}, {'TLMD': 30, 'FDEG': 21, 'UPSN': 7, 'USPS': 6, 'FDE': 0}, {'TLMD': 20, 'FDEG': 10, 'UPSN': 9, 'USPS': 7, 'FDE': 0}, {'TLMD': 34, 'FDEG': 13, 'UPSN': 11, 'USPS': 11, 'FDE': 1}, {'TLMD': 27, 'FDEG': 12, 'UPSN': 9, 'USPS': 8, 'FDE': 0}, {'TLMD': 26, 'FDEG': 18, 'UPSN': 12, 'USPS': 6, 'FDE': 0}, {'TLMD': 27, 'FDEG': 10, 'UPSN': 7, 'USPS': 13, 'FDE': 0}, {'TLMD': 30, 'FDEG': 11, 'UPSN': 9, 'USPS': 8, 'FDE': 0}, {'TLMD': 19, 'FDEG': 16, 'UPSN': 3, 'USPS': 4, 'FDE': 0}, {'TLMD': 23, 'FDEG': 16, 'UPSN': 13, 'USPS': 4, 'FDE': 0}, {'TLMD': 18, 'FDEG': 15, 'UPSN': 8, 'USPS': 8, 'FDE': 0}, {'TLMD': 28, 'FDEG': 11, 'UPSN': 10, 'USPS': 5, 'FDE': 0}, {'TLMD': 28, 'FDEG': 15, 'UPSN': 13, 'USPS': 10, 'FDE': 0}]}, {'Truck Number': 3, 'pallets': [{'TLMD': 36, 'FDEG': 9, 'UPSN': 15, 'USPS': 7, 'FDE': 0}, {'TLMD': 33, 'FDEG': 17, 'UPSN': 11, 'USPS': 11, 'FDE': 0}, {'TLMD': 31, 'FDEG': 8, 'UPSN': 12, 'USPS': 4, 'FDE': 0}, {'TLMD': 25, 'FDEG': 14, 'UPSN': 8, 'USPS': 10, 'FDE': 0}, {'TLMD': 25, 'FDEG': 13, 'UPSN': 8, 'USPS': 7, 'FDE': 0}, {'TLMD': 25, 'FDEG': 14, 'UPSN': 10, 'USPS': 9, 'FDE': 0}, {'TLMD': 35, 'FDEG': 7, 'UPSN': 8, 'USPS': 8, 'FDE': 0}, {'TLMD': 24, 'FDEG': 12, 'UPSN': 10, 'USPS': 7, 'FDE': 0}, {'TLMD': 20, 'FDEG': 9, 'UPSN': 8, 'USPS': 6, 'FDE': 0}, {'TLMD': 26, 'FDEG': 14, 'UPSN': 5, 'USPS': 6, 'FDE': 0}, {'TLMD': 31, 'FDEG': 11, 'UPSN': 7, 'USPS': 12, 'FDE': 0}, {'TLMD': 21, 'FDEG': 12, 'UPSN': 11, 'USPS': 5, 'FDE': 0}, {'TLMD': 21, 'FDEG': 19, 'UPSN': 6, 'USPS': 6, 'FDE': 0}, {'TLMD': 25, 'FDEG': 23, 'UPSN': 3, 'USPS': 3, 'FDE': 0}]}, {'Truck Number': 4, 'pallets': [{'TLMD': 23, 'FDEG': 9, 'UPSN': 7, 'USPS': 6, 'FDE': 0}, {'TLMD': 31, 'FDEG': 13, 'UPSN': 11, 'USPS': 7, 'FDE': 0}, {'TLMD': 25, 'FDEG': 7, 'UPSN': 10, 'USPS': 6, 'FDE': 0}, {'TLMD': 33, 'FDEG': 13, 'UPSN': 6, 'USPS': 9, 'FDE': 0}, {'TLMD': 29, 'FDEG': 16, 'UPSN': 7, 'USPS': 9, 'FDE': 0}, {'TLMD': 25, 'FDEG': 9, 'UPSN': 11, 'USPS': 9, 'FDE': 0}, {'TLMD': 29, 'FDEG': 12, 'UPSN': 3, 'USPS': 6, 'FDE': 0}, {'TLMD': 33, 'FDEG': 14, 'UPSN': 12, 'USPS': 4, 'FDE': 0}]}, {'Truck Number': 5, 'pallets': [{'TLMD': 28, 'FDEG': 11, 'UPSN': 8, 'USPS': 8, 'FDE': 0}, {'TLMD': 37, 'FDEG': 12, 'UPSN': 9, 'USPS': 5, 'FDE': 0}, {'TLMD': 27, 'FDEG': 11, 'UPSN': 10, 'USPS': 10, 'FDE': 0}, {'TLMD': 33, 'FDEG': 16, 'UPSN': 5, 'USPS': 9, 'FDE': 0}, {'TLMD': 23, 'FDEG': 15, 'UPSN': 7, 'USPS': 8, 'FDE': 0}, {'TLMD': 30, 'FDEG': 14, 'UPSN': 9, 'USPS': 10, 'FDE': 1}, {'TLMD': 34, 'FDEG': 24, 'UPSN': 10, 'USPS': 9, 'FDE': 0}, {'TLMD': 38, 'FDEG': 5, 'UPSN': 4, 'USPS': 10, 'FDE': 0}, {'TLMD': 37, 'FDEG': 9, 'UPSN': 11, 'USPS': 16, 'FDE': 0}, {'TLMD': 21, 'FDEG': 7, 'UPSN': 13, 'USPS': 6, 'FDE': 0}, {'TLMD': 32, 'FDEG': 9, 'UPSN': 10, 'USPS': 12, 'FDE': 0}, {'TLMD': 23, 'FDEG': 9, 'UPSN': 9, 'USPS': 14, 'FDE': 0}, {'TLMD': 27, 'FDEG': 8, 'UPSN': 11, 'USPS': 10, 'FDE': 0}]}, {'Truck Number': 6, 'pallets': [{'TLMD': 32, 'FDEG': 10, 'UPSN': 8, 'USPS': 8, 'FDE': 0}, {'TLMD': 26, 'FDEG': 10, 'UPSN': 6, 'USPS': 9, 'FDE': 0}, {'TLMD': 33, 'FDEG': 17, 'UPSN': 6, 'USPS': 13, 'FDE': 0}, {'TLMD': 35, 'FDEG': 12, 'UPSN': 5, 'USPS': 7, 'FDE': 1}, {'TLMD': 26, 'FDEG': 19, 'UPSN': 18, 'USPS': 12, 'FDE': 0}, {'TLMD': 22, 'FDEG': 8, 'UPSN': 10, 'USPS': 9, 'FDE': 0}, {'TLMD': 31, 'FDEG': 10, 'UPSN': 14, 'USPS': 6, 'FDE': 0}, {'TLMD': 29, 'FDEG': 19, 'UPSN': 11, 'USPS': 6, 'FDE': 0}, {'TLMD': 24, 'FDEG': 11, 'UPSN': 13, 'USPS': 11, 'FDE': 0}, {'TLMD': 26, 'FDEG': 17, 'UPSN': 7, 'USPS': 8, 'FDE': 1}, {'TLMD': 37, 'FDEG': 13, 'UPSN': 8, 'USPS': 6, 'FDE': 0}, {'TLMD': 24, 'FDEG': 21, 'UPSN': 6, 'USPS': 6, 'FDE': 0}, {'TLMD': 30, 'FDEG': 16, 'UPSN': 14, 'USPS': 7, 'FDE': 0}, {'TLMD': 29, 'FDEG': 10, 'UPSN': 9, 'USPS': 9, 'FDE': 0}, {'TLMD': 35, 'FDEG': 9, 'UPSN': 15, 'USPS': 12, 'FDE': 2}, {'TLMD': 29, 'FDEG': 16, 'UPSN': 5, 'USPS': 5, 'FDE': 0}, {'TLMD': 25, 'FDEG': 15, 'UPSN': 5, 'USPS': 5, 'FDE': 0}, {'TLMD': 26, 'FDEG': 14, 'UPSN': 9, 'USPS': 11, 'FDE': 0}, {'TLMD': 22, 'FDEG': 8, 'UPSN': 8, 'USPS': 6, 'FDE': 0}, {'TLMD': 35, 'FDEG': 16, 'UPSN': 7, 'USPS': 7, 'FDE': 0}, {'TLMD': 30, 'FDEG': 11, 'UPSN': 13, 'USPS': 10, 'FDE': 0}, {'TLMD': 30, 'FDEG': 12, 'UPSN': 8, 'USPS': 8, 'FDE': 0}, {'TLMD': 31, 'FDEG': 11, 'UPSN': 10, 'USPS': 9, 'FDE': 1}]}, {'Truck Number': 7, 'pallets': [{'TLMD': 25, 'FDEG': 12, 'UPSN': 10, 'USPS': 7, 'FDE': 0}, {'TLMD': 26, 'FDEG': 10, 'UPSN': 11, 'USPS': 17, 'FDE': 0}, {'TLMD': 38, 'FDEG': 8, 'UPSN': 7, 'USPS': 2, 'FDE': 0}, {'TLMD': 27, 'FDEG': 11, 'UPSN': 11, 'USPS': 2, 'FDE': 0}, {'TLMD': 33, 'FDEG': 8, 'UPSN': 7, 'USPS': 6, 'FDE': 0}, {'TLMD': 23, 'FDEG': 16, 'UPSN': 9, 'USPS': 10, 'FDE': 0}, {'TLMD': 28, 'FDEG': 15, 'UPSN': 2, 'USPS': 5, 'FDE': 0}, {'TLMD': 18, 'FDEG': 10, 'UPSN': 10, 'USPS': 12, 'FDE': 0}, {'TLMD': 33, 'FDEG': 13, 'UPSN': 14, 'USPS': 6, 'FDE': 0}, {'TLMD': 30, 'FDEG': 14, 'UPSN': 11, 'USPS': 10, 'FDE': 0}, {'TLMD': 30, 'FDEG': 16, 'UPSN': 12, 'USPS': 8, 'FDE': 0}, {'TLMD': 33, 'FDEG': 14, 'UPSN': 11, 'USPS': 6, 'FDE': 0}, {'TLMD': 18, 'FDEG': 15, 'UPSN': 5, 'USPS': 9, 'FDE': 0}]}, {'Truck Number': 8, 'pallets': [{'TLMD': 22, 'FDEG': 15, 'UPSN': 9, 'USPS': 7, 'FDE': 0}, {'TLMD': 32, 'FDEG': 13, 'UPSN': 12, 'USPS': 4, 'FDE': 0}, {'TLMD': 20, 'FDEG': 14, 'UPSN': 6, 'USPS': 7, 'FDE': 0}, {'TLMD': 19, 'FDEG': 9, 'UPSN': 7, 'USPS': 9, 'FDE': 0}, {'TLMD': 22, 'FDEG': 15, 'UPSN': 9, 'USPS': 9, 'FDE': 0}, {'TLMD': 29, 'FDEG': 10, 'UPSN': 12, 'USPS': 9, 'FDE': 0}, {'TLMD': 20, 'FDEG': 15, 'UPSN': 5, 'USPS': 8, 'FDE': 0}, {'TLMD': 27, 'FDEG': 19, 'UPSN': 6, 'USPS': 6, 'FDE': 0}, {'TLMD': 25, 'FDEG': 17, 'UPSN': 9, 'USPS': 7, 'FDE': 1}]}, {'Truck Number': 9, 'pallets': [{'TLMD': 27, 'FDEG': 14, 'UPSN': 14, 'USPS': 6, 'FDE': 0}, {'TLMD': 29, 'FDEG': 13, 'UPSN': 7, 'USPS': 8, 'FDE': 1}, {'TLMD': 29, 'FDEG': 15, 'UPSN': 7, 'USPS': 6, 'FDE': 0}, {'TLMD': 27, 'FDEG': 13, 'UPSN': 8, 'USPS': 8, 'FDE': 0}, {'TLMD': 31, 'FDEG': 9, 'UPSN': 12, 'USPS': 8, 'FDE': 0}, {'TLMD': 29, 'FDEG': 14, 'UPSN': 7, 'USPS': 4, 'FDE': 1}, {'TLMD': 23, 'FDEG': 15, 'UPSN': 8, 'USPS': 8, 'FDE': 0}]}, {'Truck Number': 10, 'pallets': [{'TLMD': 38, 'FDEG': 15, 'UPSN': 12, 'USPS': 11, 'FDE': 0}, {'TLMD': 38, 'FDEG': 20, 'UPSN': 9, 'USPS': 8, 'FDE': 0}, {'TLMD': 35, 'FDEG': 17, 'UPSN': 16, 'USPS': 13, 'FDE': 0}, {'TLMD': 30, 'FDEG': 8, 'UPSN': 10, 'USPS': 11, 'FDE': 0}, {'TLMD': 36, 'FDEG': 12, 'UPSN': 11, 'USPS': 13, 'FDE': 0}, {'TLMD': 34, 'FDEG': 14, 'UPSN': 10, 'USPS': 8, 'FDE': 0}, {'TLMD': 40, 'FDEG': 17, 'UPSN': 9, 'USPS': 10, 'FDE': 0}, {'TLMD': 35, 'FDEG': 20, 'UPSN': 8, 'USPS': 4, 'FDE': 0}, {'TLMD': 28, 'FDEG': 16, 'UPSN': 8, 'USPS': 11, 'FDE': 0}, {'TLMD': 28, 'FDEG': 12, 'UPSN': 14, 'USPS': 5, 'FDE': 0}, {'TLMD': 37, 'FDEG': 15, 'UPSN': 17, 'USPS': 5, 'FDE': 0}, {'TLMD': 45, 'FDEG': 8, 'UPSN': 10, 'USPS': 7, 'FDE': 0}, {'TLMD': 48, 'FDEG': 10, 'UPSN': 12, 'USPS': 9, 'FDE': 0}, {'TLMD': 43, 'FDEG': 10, 'UPSN': 9, 'USPS': 7, 'FDE': 0}, {'TLMD': 36, 'FDEG': 16, 'UPSN': 12, 'USPS': 8, 'FDE': 0}, {'TLMD': 31, 'FDEG': 15, 'UPSN': 13, 'USPS': 7, 'FDE': 1}, {'TLMD': 39, 'FDEG': 8, 'UPSN': 9, 'USPS': 3, 'FDE': 0}, {'TLMD': 30, 'FDEG': 21, 'UPSN': 15, 'USPS': 9, 'FDE': 0}, {'TLMD': 35, 'FDEG': 21, 'UPSN': 13, 'USPS': 11, 'FDE': 1}, {'TLMD': 47, 'FDEG': 14, 'UPSN': 13, 'USPS': 12, 'FDE': 0}]}, {'Truck Number': 11, 'pallets': [{'TLMD': 19, 'FDEG': 16, 'UPSN': 8, 'USPS': 8, 'FDE': 0}, {'TLMD': 30, 'FDEG': 15, 'UPSN': 7, 'USPS': 3, 'FDE': 0}, {'TLMD': 27, 'FDEG': 14, 'UPSN': 15, 'USPS': 6, 'FDE': 0}, {'TLMD': 36, 'FDEG': 15, 'UPSN': 9, 'USPS': 6, 'FDE': 0}, {'TLMD': 23, 'FDEG': 9, 'UPSN': 7, 'USPS': 11, 'FDE': 0}, {'TLMD': 28, 'FDEG': 13, 'UPSN': 14, 'USPS': 7, 'FDE': 0}, {'TLMD': 26, 'FDEG': 17, 'UPSN': 9, 'USPS': 10, 'FDE': 0}, {'TLMD': 28, 'FDEG': 13, 'UPSN': 17, 'USPS': 9, 'FDE': 1}, {'TLMD': 31, 'FDEG': 17, 'UPSN': 8, 'USPS': 13, 'FDE': 0}, {'TLMD': 28, 'FDEG': 13, 'UPSN': 10, 'USPS': 9, 'FDE': 0}, {'TLMD': 22, 'FDEG': 11, 'UPSN': 11, 'USPS': 10, 'FDE': 0}, {'TLMD': 24, 'FDEG': 17, 'UPSN': 13, 'USPS': 4, 'FDE': 0}, {'TLMD': 26, 'FDEG': 17, 'UPSN': 19, 'USPS': 7, 'FDE': 0}]}, {'Truck Number': 12, 'pallets': [{'TLMD': 19, 'FDEG': 15, 'UPSN': 9, 'USPS': 7, 'FDE': 0}, {'TLMD': 27, 'FDEG': 8, 'UPSN': 5, 'USPS': 6, 'FDE': 0}, {'TLMD': 30, 'FDEG': 10, 'UPSN': 5, 'USPS': 5, 'FDE': 0}, {'TLMD': 24, 'FDEG': 14, 'UPSN': 11, 'USPS': 13, 'FDE': 0}, {'TLMD': 19, 'FDEG': 9, 'UPSN': 8, 'USPS': 5, 'FDE': 0}, {'TLMD': 22, 'FDEG': 14, 'UPSN': 2, 'USPS': 8, 'FDE': 0}, {'TLMD': 23, 'FDEG': 8, 'UPSN': 7, 'USPS': 10, 'FDE': 1}]}, {'Truck Number': 13, 'pallets': [{'TLMD': 16, 'FDEG': 10, 'UPSN': 11, 'USPS': 10, 'FDE': 0}, {'TLMD': 22, 'FDEG': 3, 'UPSN': 3, 'USPS': 6, 'FDE': 0}, {'TLMD': 15, 'FDEG': 10, 'UPSN': 8, 'USPS': 4, 'FDE': 0}, {'TLMD': 25, 'FDEG': 12, 'UPSN': 13, 'USPS': 4, 'FDE': 0}, {'TLMD': 20, 'FDEG': 15, 'UPSN': 8, 'USPS': 4, 'FDE': 0}, {'TLMD': 27, 'FDEG': 14, 'UPSN': 9, 'USPS': 5, 'FDE': 0}, {'TLMD': 19, 'FDEG': 16, 'UPSN': 7, 'USPS': 10, 'FDE': 0}, {'TLMD': 21, 'FDEG': 13, 'UPSN': 7, 'USPS': 7, 'FDE': 0}, {'TLMD': 36, 'FDEG': 21, 'UPSN': 6, 'USPS': 8, 'FDE': 0}, {'TLMD': 17, 'FDEG': 13, 'UPSN': 10, 'USPS': 7, 'FDE': 1}]}, {'Truck Number': 14, 'pallets': [{'TLMD': 9, 'FDEG': 7, 'UPSN': 5, 'USPS': 2, 'FDE': 0}, {'TLMD': 15, 'FDEG': 7, 'UPSN': 1, 'USPS': 5, 'FDE': 0}]}, {'Truck Number': 15, 'pallets': [{'TLMD': 25, 'FDEG': 7, 'UPSN': 8, 'USPS': 5, 'FDE': 0}, {'TLMD': 13, 'FDEG': 18, 'UPSN': 7, 'USPS': 7, 'FDE': 0}, {'TLMD': 20, 'FDEG': 11, 'UPSN': 4, 'USPS': 5, 'FDE': 0}, {'TLMD': 14, 'FDEG': 8, 'UPSN': 6, 'USPS': 3, 'FDE': 0}, {'TLMD': 20, 'FDEG': 4, 'UPSN': 10, 'USPS': 7, 'FDE': 0}, {'TLMD': 16, 'FDEG': 9, 'UPSN': 7, 'USPS': 3, 'FDE': 0}, {'TLMD': 19, 'FDEG': 8, 'UPSN': 3, 'USPS': 6, 'FDE': 0}]}]\n"
     ]
    }
   ],
   "source": [
    "#df_package_distribution.drop(columns=['vol_actualization'], inplace=True)\n",
    "csv_file = 'carrier_breakdown.csv'\n",
    "distributions = pd.read_csv(csv_file)\n",
    "\n",
    "total_packages = predicted_volume\n",
    "df_pallet_formation = pd.DataFrame(df_package_distribution[['Truck Number','predicted_truck_volume', 'pallets']])\n",
    "\n",
    "# Determine the number of packages going to each organization based on the distribution\n",
    "carrier_packages = {}\n",
    "for index, row in distributions.iterrows():\n",
    "    while True:\n",
    "        value = int(np.random.normal(row[\"average_percent\"], row[\"std_dev\"]) * total_packages)\n",
    "        if value >= 0:\n",
    "            carrier_packages[row[\"carrier\"]] = value\n",
    "            break\n",
    "\n",
    "# Adjust the total to match the exact number of packages\n",
    "total_assigned_packages = sum(carrier_packages.values())\n",
    "if total_assigned_packages != total_packages:\n",
    "    difference = total_packages - total_assigned_packages\n",
    "    carrier_packages[random.choice(list(carrier_packages.keys()))] += difference\n",
    "    carrier_packages['TLMD'] = carrier_packages['TLMD'] - TFC_vol\n",
    "\n",
    "df_carrier_breakdown = pd.DataFrame(list(carrier_packages.items()), columns=['Organization', 'Packages'])\n",
    "\n",
    "\n",
    "def assign_packages_to_pallets(trucks_df, packages_df):\n",
    "    result = []\n",
    "    \n",
    "    # Create a list of all packages\n",
    "    all_packages = []\n",
    "    for j in range(len(packages_df)):\n",
    "        org = packages_df.loc[j, 'Organization']\n",
    "        num_packages = packages_df.loc[j, 'Packages']\n",
    "        all_packages.extend([org] * num_packages)\n",
    "    \n",
    "    # Shuffle the list of all packages\n",
    "    np.random.shuffle(all_packages)\n",
    "    \n",
    "    start_index = 0\n",
    "    for i in range(len(trucks_df)):\n",
    "        truck_number = trucks_df.loc[i, 'Truck Number']\n",
    "        num_pallets = trucks_df.loc[i, 'pallets']\n",
    "        predicted_truck_volume = trucks_df.loc[i, 'predicted_truck_volume']\n",
    "        \n",
    "        # Skip trucks with zero pallets\n",
    "        if num_pallets <= 0:\n",
    "            continue\n",
    "        \n",
    "        # Get the packages for the current truck\n",
    "        truck_packages = all_packages[start_index:start_index + predicted_truck_volume]\n",
    "        start_index += predicted_truck_volume\n",
    "        \n",
    "        # Create a list of pallets for the current truck\n",
    "        truck_pallets = [[] for _ in range(num_pallets)]\n",
    "        \n",
    "        # Randomly assign packages to pallets on the current truck\n",
    "        for package in truck_packages:\n",
    "            pallet_index = np.random.randint(0, num_pallets)\n",
    "            truck_pallets[pallet_index].append(package)\n",
    "        \n",
    "        # Count the number of packages per organization on each pallet\n",
    "        pallet_counts = []\n",
    "        for pallet in truck_pallets:\n",
    "            counts = {org: pallet.count(org) for org in packages_df['Organization']}\n",
    "            pallet_counts.append(counts)\n",
    "        \n",
    "        result.append({\n",
    "            'Truck Number': truck_number,\n",
    "            'pallets': pallet_counts\n",
    "        })\n",
    "    \n",
    "    return result\n",
    "\n",
    "\n",
    "assigned_packages = assign_packages_to_pallets(df_pallet_formation, df_carrier_breakdown)\n",
    "print(assigned_packages)\n",
    "# for truck in assigned_packages:\n",
    "#     print(f\"Truck {truck['Truck Number']}:\")\n",
    "#     for i, pallet in enumerate(truck['pallets']):\n",
    "#         print(f\"  Pallet {i+1}: {pallet}\")\n"
   ]
  },
  {
   "cell_type": "code",
   "execution_count": 17,
   "metadata": {},
   "outputs": [
    {
     "name": "stdout",
     "output_type": "stream",
     "text": [
      "       pkg_received_utc_ts package_tracking_number  scac  Pallet\n",
      "0      [51.14671738261082]               PKG000001  TLMD       1\n",
      "1      [51.14671738261082]               PKG000002  TLMD       1\n",
      "2      [51.14671738261082]               PKG000003  TLMD       1\n",
      "3      [51.14671738261082]               PKG000004  TLMD       1\n",
      "4      [51.14671738261082]               PKG000005  FDEG       1\n",
      "...                    ...                     ...   ...     ...\n",
      "10038  [939.0589881352732]               PKG010039  FDEG     175\n",
      "10039  [939.0589881352732]               PKG010040  USPS     175\n",
      "10040  [939.0589881352732]               PKG010041  FDEG     175\n",
      "10041  [939.0589881352732]               PKG010042  FDEG     175\n",
      "10042  [939.0589881352732]               PKG010043  FDEG     175\n",
      "\n",
      "[10043 rows x 4 columns]\n"
     ]
    }
   ],
   "source": [
    "truck_data = assigned_packages\n",
    "arrival_times_df = pd.DataFrame(df_package_distribution[['Truck Number', 'arrival_actualization']])\n",
    "# Initialize lists to store data for DataFrame\n",
    "pallet_numbers = []\n",
    "package_numbers = []\n",
    "arrival_times_list = []\n",
    "scac_list = []\n",
    "\n",
    "# Initialize package counter\n",
    "package_counter = 1\n",
    "\n",
    "# Initialize pallet counter\n",
    "pallet_counter = 1\n",
    "\n",
    "# Iterate over trucks and pallets to generate DataFrame data\n",
    "for truck in truck_data:\n",
    "    truck_number = truck['Truck Number']\n",
    "    arrival_time = arrival_times_df[arrival_times_df['Truck Number'] == truck_number]['arrival_actualization'].values\n",
    "    for pallet in truck['pallets']:\n",
    "        scac_values = []\n",
    "        for org, num_packages in pallet.items():\n",
    "            scac_values.extend([org] * num_packages)\n",
    "        np.random.shuffle(scac_values)  # Shuffle SCAC values within the pallet\n",
    "        for scac in scac_values:\n",
    "            pallet_numbers.append(pallet_counter)\n",
    "            package_numbers.append(f\"PKG{package_counter:06d}\")\n",
    "            arrival_times_list.append(arrival_time)\n",
    "            scac_list.append(scac)\n",
    "            package_counter += 1\n",
    "        pallet_counter += 1\n",
    "               \n",
    "\n",
    "# Create DataFrame\n",
    "df = pd.DataFrame({\n",
    "    'pkg_received_utc_ts': arrival_times_list,\n",
    "    'package_tracking_number': package_numbers,\n",
    "    'scac': scac_list,\n",
    "    'Pallet': pallet_numbers\n",
    "})\n",
    "\n",
    "print(df)\n",
    "\n",
    "        "
   ]
  }
 ],
 "metadata": {
  "kernelspec": {
   "display_name": "Python 3",
   "language": "python",
   "name": "python3"
  },
  "language_info": {
   "codemirror_mode": {
    "name": "ipython",
    "version": 3
   },
   "file_extension": ".py",
   "mimetype": "text/x-python",
   "name": "python",
   "nbconvert_exporter": "python",
   "pygments_lexer": "ipython3",
   "version": "3.11.5"
  }
 },
 "nbformat": 4,
 "nbformat_minor": 2
}
