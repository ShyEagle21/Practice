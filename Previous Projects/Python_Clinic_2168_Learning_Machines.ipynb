{
 "cells": [
  {
   "cell_type": "markdown",
   "metadata": {},
   "source": [
    "# Python Clinic (February 18th, 2020)\n",
    "## 2.168 Learning Machines\n",
    "## Iksung Kang"
   ]
  },
  {
   "cell_type": "markdown",
   "metadata": {},
   "source": [
    "### Goal\n",
    "The goal of this tutorial is to expose students to the two main libraries that will be used in team projects: numpy, matplotlib, scipy, and h5py. The tutorial is an overview of the main methods in these libraries used for scientific computing, and is a good starting point for any student who has never used those libraries before.\n",
    "\n",
    "Also, after the brief introduction on these libraries in Python, another programming language called Keras will be covered briefly. Keras is one of programming languages based on Python that is largely used for designing Deep Neural Networks (DNN). Using Keras, we will design a simple model for the inverse problem.\n",
    "\n",
    "### Prior knowledge\n",
    "We will assume students possess basic Python knowledge (i.e. variables, printing, if statements, loops etc.)."
   ]
  },
  {
   "cell_type": "markdown",
   "metadata": {},
   "source": [
    "## In this clinic\n",
    "\n",
    "- You may simply follow the intructions provided for each part of the tutorial, and copy the code sequentially to a Python script locally on your computer if you wish, which you can then run in a terminal."
   ]
  },
  {
   "cell_type": "markdown",
   "metadata": {},
   "source": [
    "# Python"
   ]
  },
  {
   "cell_type": "markdown",
   "metadata": {},
   "source": [
    "### Import Libraries"
   ]
  },
  {
   "cell_type": "code",
   "execution_count": 1,
   "metadata": {},
   "outputs": [],
   "source": [
    "# We will import libraries used in this clinic.\n",
    "# First, for Python:\n",
    "import numpy as np\n",
    "import matplotlib.pyplot as plt\n",
    "import scipy.io as sio\n",
    "import h5py as hp"
   ]
  },
  {
   "cell_type": "markdown",
   "metadata": {},
   "source": [
    "## 1. Numpy"
   ]
  },
  {
   "cell_type": "markdown",
   "metadata": {},
   "source": [
    "### Create a vector and matrix"
   ]
  },
  {
   "cell_type": "code",
   "execution_count": 2,
   "metadata": {},
   "outputs": [
    {
     "name": "stdout",
     "output_type": "stream",
     "text": [
      "[  1   2   3  -1 999] is a vector of shape (5,) \n",
      "\n",
      "[[  1   0   0]\n",
      " [  4   7   9]\n",
      " [100   2  33]] is a matrix of shape (3, 3) \n",
      "\n"
     ]
    }
   ],
   "source": [
    "# Creating a vector in R^5\n",
    "v = np.array([1,2,3,-1,999])\n",
    "print(f'{v} is a vector of shape {v.shape} \\n')\n",
    "\n",
    "# Creating a 3x3 matrix\n",
    "A = np.array([\n",
    "    [1, 0, 0],\n",
    "    [4, 7, 9],\n",
    "    [100, 2, 33]\n",
    "])\n",
    "print(f'{A} is a matrix of shape {A.shape} \\n')"
   ]
  },
  {
   "cell_type": "code",
   "execution_count": 3,
   "metadata": {},
   "outputs": [
    {
     "name": "stdout",
     "output_type": "stream",
     "text": [
      "Vector of ones in R^10: \n",
      " [1. 1. 1. 1. 1. 1. 1. 1. 1. 1.] \n",
      "\n",
      "3x3 matrix of ones: \n",
      " [[1. 1. 1.]\n",
      " [1. 1. 1.]\n",
      " [1. 1. 1.]] \n",
      "\n",
      "Vector of zeros in R^10: \n",
      " [0. 0. 0. 0. 0. 0. 0. 0. 0. 0.] \n",
      "\n",
      "3x3 matrix of zeros: \n",
      " [[0. 0. 0.]\n",
      " [0. 0. 0.]\n",
      " [0. 0. 0.]] \n",
      "\n",
      "Numbers from 0 to 9: \n",
      " [0 1 2 3 4 5 6 7 8 9] \n",
      "\n"
     ]
    }
   ],
   "source": [
    "print(f'Vector of ones in R^10: \\n {np.ones(10)} \\n')\n",
    "print(f'3x3 matrix of ones: \\n {np.ones((3,3))} \\n')\n",
    "print(f'Vector of zeros in R^10: \\n {np.zeros(10)} \\n')\n",
    "print(f'3x3 matrix of zeros: \\n {np.zeros((3,3))} \\n')\n",
    "print(f'Numbers from 0 to 9: \\n {np.arange(0,10)} \\n')"
   ]
  },
  {
   "cell_type": "markdown",
   "metadata": {},
   "source": [
    "### Indexing"
   ]
  },
  {
   "cell_type": "code",
   "execution_count": 4,
   "metadata": {},
   "outputs": [
    {
     "name": "stdout",
     "output_type": "stream",
     "text": [
      "First element in the vector v: 1\n",
      "Last element in the vector v: 999\n",
      "Elements in the first row of the matrix A: [1 0 0]\n",
      "Elements in the first column of the matrix A: [  1   4 100]\n"
     ]
    }
   ],
   "source": [
    "# Indexing, Accessing elements in an array\n",
    "print(f'First element in the vector v: {v[0]}')\n",
    "print(f'Last element in the vector v: {v[-1]}')\n",
    "print(f'Elements in the first row of the matrix A: {A[0,:]}')\n",
    "print(f'Elements in the first column of the matrix A: {A[:,0]}')"
   ]
  },
  {
   "cell_type": "code",
   "execution_count": 6,
   "metadata": {},
   "outputs": [
    {
     "name": "stdout",
     "output_type": "stream",
     "text": [
      "3rd and 4th element of v = [ 3 -1]\n",
      "4th till last element of v = [ -1 999]\n"
     ]
    }
   ],
   "source": [
    "print(f'3rd and 4th element of v = {v[2:4]}') # Slicing\n",
    "print(f'4th till last element of v = {v[3:]}') # Slicing without specifying an end point"
   ]
  },
  {
   "cell_type": "code",
   "execution_count": 7,
   "metadata": {},
   "outputs": [
    {
     "name": "stdout",
     "output_type": "stream",
     "text": [
      "Shape of the vector v is (5,)\n",
      "Shape of the matrix A is (3, 3)\n"
     ]
    }
   ],
   "source": [
    "# See the shape of a matrix or vector.\n",
    "print(f'Shape of the vector v is {v.shape}')\n",
    "print(f'Shape of the matrix A is {A.shape}')"
   ]
  },
  {
   "cell_type": "markdown",
   "metadata": {},
   "source": [
    "### Element-wise operations"
   ]
  },
  {
   "cell_type": "code",
   "execution_count": 18,
   "metadata": {},
   "outputs": [],
   "source": [
    "B = np.array([[1, 2, 3],\n",
    "             [4, 5, 6],\n",
    "             [7, 8, 9]])"
   ]
  },
  {
   "cell_type": "code",
   "execution_count": 19,
   "metadata": {},
   "outputs": [
    {
     "name": "stdout",
     "output_type": "stream",
     "text": [
      "B/2: \n",
      " [[0.5 1.  1.5]\n",
      " [2.  2.5 3. ]\n",
      " [3.5 4.  4.5]] \n",
      "\n",
      "2*B: \n",
      " [[ 2.  4.  6.]\n",
      " [ 8. 10. 12.]\n",
      " [14. 16. 18.]] \n",
      "\n",
      "B+2: \n",
      " [[ 3.  4.  5.]\n",
      " [ 6.  7.  8.]\n",
      " [ 9. 10. 11.]] \n",
      "\n",
      "B-2: \n",
      " [[-1.  0.  1.]\n",
      " [ 2.  3.  4.]\n",
      " [ 5.  6.  7.]] \n",
      "\n",
      "exp(B): \n",
      " [[2.71828183e+00 7.38905610e+00 2.00855369e+01]\n",
      " [5.45981500e+01 1.48413159e+02 4.03428793e+02]\n",
      " [1.09663316e+03 2.98095799e+03 8.10308393e+03]] \n",
      "\n",
      "log(B): \n",
      " [[0.         0.69314718 1.09861229]\n",
      " [1.38629436 1.60943791 1.79175947]\n",
      " [1.94591015 2.07944154 2.19722458]] \n",
      "\n"
     ]
    }
   ],
   "source": [
    "# Numpy enables some element-wise operations.\n",
    "print(f'B/2: \\n {B/2.} \\n')\n",
    "print(f'2*B: \\n {B*2.} \\n')\n",
    "print(f'B+2: \\n {B+2.} \\n')\n",
    "print(f'B-2: \\n {B-2.} \\n')\n",
    "print(f'exp(B): \\n {np.exp(B)} \\n')\n",
    "print(f'log(B): \\n {np.log(B)} \\n')"
   ]
  },
  {
   "cell_type": "markdown",
   "metadata": {},
   "source": [
    "### Array operations"
   ]
  },
  {
   "cell_type": "code",
   "execution_count": 20,
   "metadata": {},
   "outputs": [
    {
     "name": "stdout",
     "output_type": "stream",
     "text": [
      "B.max(): \n",
      " 9\n",
      "B.min(): \n",
      " 1\n",
      "B.argmax(): \n",
      " 8\n",
      "B.argmin(): \n",
      " 0\n",
      "B.sum(): \n",
      " 45\n"
     ]
    }
   ],
   "source": [
    "# Some operations on numpy arrays\n",
    "print(f'B.max(): \\n {B.max()}')\n",
    "print(f'B.min(): \\n {B.min()}')\n",
    "print(f'B.argmax(): \\n {B.argmax()}')\n",
    "print(f'B.argmin(): \\n {B.argmin()}')\n",
    "print(f'B.sum(): \\n {B.sum()}')"
   ]
  },
  {
   "cell_type": "markdown",
   "metadata": {},
   "source": [
    "## 2. Matplotlib"
   ]
  },
  {
   "cell_type": "markdown",
   "metadata": {},
   "source": [
    "We now explore the matplotlib library which allows us to generate plots of our data.\n",
    "\n",
    "We explore a basic plotting pipeline which you can re-use in your projects. There are many extensions that can be explored from this starting point. (You can even plot in 3D using matplotlib!) \n",
    "\n",
    "We encourage you to read the [matplotlib docs](https://matplotlib.org/3.1.1/contents.html) for more details. You may also like the [matlotlib examples page](https://matplotlib.org/examples/) which provides plots for different use cases with the code implementing them."
   ]
  },
  {
   "cell_type": "code",
   "execution_count": 10,
   "metadata": {},
   "outputs": [
    {
     "data": {
      "image/png": "[encoded data removed]",
      "text/plain": [
       "<Figure size 432x288 with 1 Axes>"
      ]
     },
     "metadata": {
      "needs_background": "light"
     },
     "output_type": "display_data"
    }
   ],
   "source": [
    "x = np.arange(100) \n",
    "\n",
    "# Drawing x^2\n",
    "plt.figure() # create figure\n",
    "plt.plot(x,x**2,'g') # plotting x^2\n",
    "plt.xlabel('x') # give x axis a label\n",
    "plt.ylabel('x^2') # give y axis a label\n",
    "plt.title('y=x^2') # give a title to the plot\n",
    "plt.show() # actually show what we plotted \n",
    "\n",
    "# You could also just call plt.show() after creating several plots - they will then all show up at the same time"
   ]
  },
  {
   "cell_type": "markdown",
   "metadata": {},
   "source": [
    "## 3. Libraries for I/O"
   ]
  },
  {
   "cell_type": "markdown",
   "metadata": {},
   "source": [
    "You may need to use input and output functions to run a code for your project. You may want to import some datasets and run them in your code to perform some operations and export the results for further analysis or presentation. For these kinds of operations, scipy.io and h5py libraries can be used."
   ]
  },
  {
   "cell_type": "markdown",
   "metadata": {},
   "source": [
    "### 3.1. h5py"
   ]
  },
  {
   "cell_type": "code",
   "execution_count": null,
   "metadata": {},
   "outputs": [],
   "source": [
    "# Suppose the dataset you want to import is a .mat file. Using h5py library, we will try to import the file.\n",
    "aa = hp.File('X.mat','r')\n",
    "y = aa['x']"
   ]
  },
  {
   "cell_type": "markdown",
   "metadata": {},
   "source": [
    "This code imports 'X.mat' file, access to its variable named 'x', and assign the values of the variable to 'y'."
   ]
  },
  {
   "cell_type": "markdown",
   "metadata": {},
   "source": [
    "### 3.2. scipy.io"
   ]
  },
  {
   "cell_type": "code",
   "execution_count": null,
   "metadata": {},
   "outputs": [],
   "source": [
    "# Now, using scipy.io library, we will try to export the file.\n",
    "bb = sio.savemat('Y.mat',mdict={'y':x})"
   ]
  },
  {
   "cell_type": "markdown",
   "metadata": {},
   "source": [
    "This code exports a file named 'Y.mat'. This file has a variable named 'y' with the values from 'x' in the code."
   ]
  },
  {
   "cell_type": "markdown",
   "metadata": {},
   "source": [
    "# Keras"
   ]
  },
  {
   "cell_type": "markdown",
   "metadata": {},
   "source": [
    "### What is Keras? "
   ]
  },
  {
   "cell_type": "markdown",
   "metadata": {},
   "source": [
    "Keras is a high-level neural networks API, written in Python and running on top of Tensorflow, in general. Thanks to its modularity, fully configurable modules can be plugged together with as few restrictions as possible. In particular, neural layers, cost functions, optimizers, initialization schemes, activation functions and regularization schemes are all standalone modules that you can combine to create new models. More in [Keras official webpage](https://keras.io/)."
   ]
  },
  {
   "cell_type": "markdown",
   "metadata": {},
   "source": [
    "### In this clinic"
   ]
  },
  {
   "cell_type": "markdown",
   "metadata": {},
   "source": [
    "We will cover main components in Keras API, i.e. Layers, Model, Regularizers, Optimizers, and Callbacks by following an classification example on Multi-Layer Perceptron (MLP) for multi-class softmax classification. You may find the similar example and other ones as well in [Keras official website](https://keras.io/getting-started/sequential-model-guide/)."
   ]
  },
  {
   "cell_type": "markdown",
   "metadata": {},
   "source": [
    "## Import libraries"
   ]
  },
  {
   "cell_type": "code",
   "execution_count": 13,
   "metadata": {},
   "outputs": [
    {
     "name": "stderr",
     "output_type": "stream",
     "text": [
      "Using TensorFlow backend.\n"
     ]
    }
   ],
   "source": [
    "# We will use a sequential model in this clinic.\n",
    "from keras.models import Sequential\n",
    "\n",
    "# We will only use densely connected layers, dropout layers, and activation layers.\n",
    "from keras.layers import Dense, Dropout, Activation\n",
    "\n",
    "# For optimizer, we will use Adam.\n",
    "from keras.optimizers import Adam\n",
    "\n",
    "# For callbacks, EarlyStopping will be used.\n",
    "from keras.callbacks import EarlyStopping"
   ]
  },
  {
   "cell_type": "markdown",
   "metadata": {},
   "source": [
    "## Generate datasets with some random values"
   ]
  },
  {
   "cell_type": "code",
   "execution_count": 14,
   "metadata": {},
   "outputs": [
    {
     "name": "stdout",
     "output_type": "stream",
     "text": [
      "Training dataset has X_train with the dimension of (1000, 20) as an input and y_train with the dimension of (1000, 2) as an output.\n",
      "Test dataset has X_test with the dimension of (100, 20) as an input and y_test with the dimension of (100, 2) as an output.\n"
     ]
    }
   ],
   "source": [
    "import numpy as np\n",
    "from keras.utils import to_categorical\n",
    "\n",
    "X_train = np.random.random((1000, 20))\n",
    "y_train = to_categorical(np.random.randint(2, size=(1000, 1)), num_classes = 2)\n",
    "X_test = np.random.random((100, 20))\n",
    "y_test = to_categorical(np.random.randint(2, size=(100, 1)), num_classes = 2)\n",
    "\n",
    "print(f'Training dataset has X_train with the dimension of {X_train.shape} as an input \\\n",
    "and y_train with the dimension of {y_train.shape} as an output.')\n",
    "print(f'Test dataset has X_test with the dimension of {X_test.shape} as an input \\\n",
    "and y_test with the dimension of {y_test.shape} as an output.')"
   ]
  },
  {
   "cell_type": "code",
   "execution_count": null,
   "metadata": {},
   "outputs": [],
   "source": [
    "y_test"
   ]
  },
  {
   "cell_type": "markdown",
   "metadata": {},
   "source": [
    "## 1. Layers"
   ]
  },
  {
   "cell_type": "markdown",
   "metadata": {},
   "source": [
    "Layers are main building blocks to construct your own DNN architecture. Some representative layers are: Dense, [Dropout](http://jmlr.org/papers/v15/srivastava14a.html), Convolutional, [Pooling](https://machinelearningmastery.com/pooling-layers-for-convolutional-neural-networks/), and Activation layers. We will not cover each layer in detail but you could always find more information from the reference."
   ]
  },
  {
   "cell_type": "markdown",
   "metadata": {},
   "source": [
    "## 2. Model"
   ]
  },
  {
   "cell_type": "markdown",
   "metadata": {},
   "source": [
    "Model is a set of layers, contiguous to the input and output dimensions. Defining a model forms up a basis on which you add as many layers as you want considering your PC's computing power, i.e. both CPU and GPU. As the model becomes more complex, the number of parameters to train becomes larger, thus requiring more computing power and RAM."
   ]
  },
  {
   "cell_type": "code",
   "execution_count": 15,
   "metadata": {},
   "outputs": [],
   "source": [
    "# To create a sequential model, you may simply define as:\n",
    "model = Sequential()"
   ]
  },
  {
   "cell_type": "code",
   "execution_count": 16,
   "metadata": {},
   "outputs": [
    {
     "name": "stdout",
     "output_type": "stream",
     "text": [
      "WARNING:tensorflow:From C:\\Users\\conta\\Anaconda3\\envs\\cuda\\lib\\site-packages\\tensorflow\\python\\framework\\op_def_library.py:263: colocate_with (from tensorflow.python.framework.ops) is deprecated and will be removed in a future version.\n",
      "Instructions for updating:\n",
      "Colocations handled automatically by placer.\n",
      "WARNING:tensorflow:From C:\\Users\\conta\\Anaconda3\\envs\\cuda\\lib\\site-packages\\keras\\backend\\tensorflow_backend.py:3445: calling dropout (from tensorflow.python.ops.nn_ops) with keep_prob is deprecated and will be removed in a future version.\n",
      "Instructions for updating:\n",
      "Please use `rate` instead of `keep_prob`. Rate should be set to `rate = 1 - keep_prob`.\n"
     ]
    }
   ],
   "source": [
    "# Now, we will pile up some layers on top of it.\n",
    "# Since there are x and y coordinates in X, input_shape = (2,).\n",
    "# Units are the number of elements in output array.\n",
    "model.add(Dense(units = 8, input_shape = (20,), activation = 'relu'))\n",
    "model.add(Dropout(0.5))\n",
    "\n",
    "# You may add one more layer.\n",
    "model.add(Dense(units = 8, activation = 'relu'))\n",
    "model.add(Dropout(0.5))\n",
    "\n",
    "# Now, we need to add a final layer that gives us the classification results.\n",
    "# Since we are dealing with a two-class classification, the output array should have two elements.\n",
    "model.add(Dense(units = 2, activation = 'sigmoid'))"
   ]
  },
  {
   "cell_type": "markdown",
   "metadata": {},
   "source": [
    "In a compling process, you need to specify what kind of optimizer, loss function, and metrics to use. For an optimizer, we will use [Adam](https://arxiv.org/abs/1412.6980) (other kinds of optimizers are also available, e.g. Adadelta, Adagrad, etc.) Other types of optimizers have different properties, so you may check if they are suitable for your use. For a loss function, [categorical crossentropy](https://gombru.github.io/2018/05/23/cross_entropy_loss/) can be simply used for classification tasks. And for a metric, we will keep track of the accuracy of the classification at every epoch."
   ]
  },
  {
   "cell_type": "code",
   "execution_count": 17,
   "metadata": {},
   "outputs": [
    {
     "name": "stdout",
     "output_type": "stream",
     "text": [
      "_________________________________________________________________\n",
      "Layer (type)                 Output Shape              Param #   \n",
      "=================================================================\n",
      "dense_1 (Dense)              (None, 8)                 168       \n",
      "_________________________________________________________________\n",
      "dropout_1 (Dropout)          (None, 8)                 0         \n",
      "_________________________________________________________________\n",
      "dense_2 (Dense)              (None, 8)                 72        \n",
      "_________________________________________________________________\n",
      "dropout_2 (Dropout)          (None, 8)                 0         \n",
      "_________________________________________________________________\n",
      "dense_3 (Dense)              (None, 2)                 18        \n",
      "=================================================================\n",
      "Total params: 258\n",
      "Trainable params: 258\n",
      "Non-trainable params: 0\n",
      "_________________________________________________________________\n"
     ]
    }
   ],
   "source": [
    "# Now, we compile this model.\n",
    "model.compile(optimizer = 'adam', loss = 'categorical_crossentropy', metrics = ['accuracy'])\n",
    "model.summary()"
   ]
  },
  {
   "cell_type": "code",
   "execution_count": null,
   "metadata": {},
   "outputs": [],
   "source": [
    "# Callback: EarlyStopping.\n",
    "es = EarlyStopping(monitor = 'loss', patience = 10)\n",
    "\n",
    "# Now, we train the neural network using fit function.\n",
    "# However, we need to keep track on validation loss since it tells you if the network is being overfitted or underfitted.\n",
    "# So, we use validation_split to split the training dataset into two again.\n",
    "# One will be used for training, and the other one will be used for validation process.\n",
    "history = model.fit(X_train, y_train, verbose = 1, epochs = 50, \\\n",
    "                        batch_size = 128, callbacks = [es], validation_split = 0.2)\n",
    "\n",
    "y_predicted = model.predict(X_test, verbose = 1, batch_size = 128)\n",
    "test_acc = accuracy_score(y_test, y_predicted.round())\n",
    "\n",
    "print('Training Accuracy: {:.3f}%'.format(history.history['acc'][-1] * 100))\n",
    "print('Validation Accuracy: {:.3f}%'.format(history.history['val_acc'][-1] * 100))\n",
    "print('Test Accuracy: {:.3f}%'.format(test_acc * 100))"
   ]
  }
 ],
 "metadata": {
  "kernelspec": {
   "display_name": "Python 3",
   "language": "python",
   "name": "python3"
  },
  "language_info": {
   "codemirror_mode": {
    "name": "ipython",
    "version": 3
   },
   "file_extension": ".py",
   "mimetype": "text/x-python",
   "name": "python",
   "nbconvert_exporter": "python",
   "pygments_lexer": "ipython3",
   "version": "3.7.3"
  }
 },
 "nbformat": 4,
 "nbformat_minor": 2
}
