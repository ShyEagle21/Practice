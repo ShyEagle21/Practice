{
 "cells": [
  {
   "cell_type": "code",
   "execution_count": 3,
   "id": "2a1bde7a-51c6-4078-a6f8-81262093074d",
   "metadata": {},
   "outputs": [],
   "source": [
    "import numpy as np\n",
    "import pandas as pd\n",
    "import torch\n",
    "import torch.nn as nn\n",
    "import torch.optim as optim\n",
    "from torch.utils.data import DataLoader, TensorDataset\n",
    "from torch import Tensor\n",
    "from sklearn.preprocessing import StandardScaler\n",
    "from sklearn.model_selection import train_test_split\n",
    "from sklearn.linear_model import LogisticRegression\n",
    "import matplotlib.pyplot as plt\n",
    "torch.manual_seed(0);"
   ]
  },
  {
   "cell_type": "markdown",
   "id": "b2aad6dc",
   "metadata": {},
   "source": [
    "# Part (a)"
   ]
  },
  {
   "cell_type": "markdown",
   "id": "cf76349d",
   "metadata": {},
   "source": [
    "See Attached Drawing"
   ]
  },
  {
   "cell_type": "markdown",
   "id": "0343607b",
   "metadata": {},
   "source": [
    "# Part (b)"
   ]
  },
  {
   "cell_type": "markdown",
   "id": "231bb656-f894-44fe-874d-e0613fbb848d",
   "metadata": {},
   "source": [
    "# Part (i)"
   ]
  },
  {
   "cell_type": "code",
   "execution_count": 32,
   "id": "b9dbf0b6-ec89-43fc-948f-977dfce2b522",
   "metadata": {},
   "outputs": [],
   "source": [
    "# Import over-35 dataset\n",
    "df = pd.read_csv('london_data_35+.csv')\n",
    "y = pd.CategoricalIndex(df.travel_mode).codes\n",
    "X = df.loc[:, df.columns != 'travel_mode'].to_numpy()\n",
    "\n",
    "# Standardize\n",
    "scaler = StandardScaler()\n",
    "X = scaler.fit_transform(X)\n",
    "\n",
    "# Build train and validation dataloaders\n",
    "batch_size = 128\n",
    "X_train, y_train = X[:40000], y[:40000]\n",
    "X_val, y_val = X[40000:], y[40000:]\n",
    "train_dataset = TensorDataset(Tensor(X_train.copy()), Tensor(y_train.copy()))\n",
    "val_dataset = TensorDataset(Tensor(X_val.copy()), Tensor(y_val.copy()))\n",
    "train_loader = DataLoader(train_dataset, batch_size=batch_size, shuffle=False)\n",
    "val_loader = DataLoader(val_dataset, batch_size=batch_size, shuffle=False)"
   ]
  },
  {
   "cell_type": "markdown",
   "id": "cd6eb842-dd65-4865-a6f8-cbf9c9b630cb",
   "metadata": {},
   "source": [
    "## Train Neural Network"
   ]
  },
  {
   "cell_type": "code",
   "execution_count": 41,
   "id": "068ea1fd-384b-4df8-b4b2-33d39bc9b6aa",
   "metadata": {},
   "outputs": [],
   "source": [
    "class NeuralNetwork(nn.Module):\n",
    "    def __init__(self):\n",
    "        super().__init__()\n",
    "        self.linear_relu_stack = nn.Sequential(\n",
    "            nn.Linear(22, 64),\n",
    "            nn.ReLU(),\n",
    "            nn.Linear(64, 64),\n",
    "            nn.ReLU(),\n",
    "            nn.Linear(64, 64),\n",
    "            nn.ReLU(),\n",
    "            nn.Linear(64, 64),\n",
    "            nn.ReLU(),\n",
    "            nn.Linear(64, 4),\n",
    "        )\n",
    "\n",
    "    def forward(self, x):\n",
    "        logits = self.linear_relu_stack(x)\n",
    "        return logits"
   ]
  },
  {
   "cell_type": "code",
   "execution_count": 42,
   "id": "91d717c4-8f73-4a23-a6cd-a9d6e471f670",
   "metadata": {},
   "outputs": [],
   "source": [
    "NN = NeuralNetwork()\n",
    "optimizer = torch.optim.Adam(NN.parameters(), lr=1e-4)\n",
    "CrossEntropy = nn.CrossEntropyLoss(reduction='mean')"
   ]
  },
  {
   "cell_type": "code",
   "execution_count": 43,
   "id": "90597d28-e7fd-463a-8fc7-d12c315c2723",
   "metadata": {},
   "outputs": [
    {
     "name": "stdout",
     "output_type": "stream",
     "text": [
      "Epoch 5 train accuracy:, 0.7291, validation accuracy:, 0.7291\n",
      "Epoch 10 train accuracy:, 0.7388, validation accuracy:, 0.7405\n",
      "Epoch 15 train accuracy:, 0.7434, validation accuracy:, 0.7479\n",
      "Epoch 20 train accuracy:, 0.746, validation accuracy:, 0.7513\n",
      "Epoch 25 train accuracy:, 0.748, validation accuracy:, 0.7515\n",
      "Epoch 30 train accuracy:, 0.7503, validation accuracy:, 0.7525\n",
      "Epoch 35 train accuracy:, 0.752, validation accuracy:, 0.7538\n",
      "Epoch 40 train accuracy:, 0.7525, validation accuracy:, 0.7523\n",
      "Epoch 45 train accuracy:, 0.7534, validation accuracy:, 0.7519\n",
      "Epoch 50 train accuracy:, 0.7545, validation accuracy:, 0.7525\n",
      "Epoch 55 train accuracy:, 0.7553, validation accuracy:, 0.753\n",
      "Epoch 60 train accuracy:, 0.756, validation accuracy:, 0.753\n",
      "Epoch 65 train accuracy:, 0.7568, validation accuracy:, 0.7532\n",
      "Epoch 70 train accuracy:, 0.7569, validation accuracy:, 0.7527\n",
      "Epoch 75 train accuracy:, 0.7576, validation accuracy:, 0.7536\n",
      "Epoch 80 train accuracy:, 0.7578, validation accuracy:, 0.7534\n",
      "Epoch 85 train accuracy:, 0.7584, validation accuracy:, 0.7538\n",
      "Epoch 90 train accuracy:, 0.7589, validation accuracy:, 0.7538\n",
      "Epoch 95 train accuracy:, 0.7591, validation accuracy:, 0.7553\n",
      "Epoch 100 train accuracy:, 0.7591, validation accuracy:, 0.7548\n",
      "Epoch 105 train accuracy:, 0.7595, validation accuracy:, 0.754\n",
      "Epoch 110 train accuracy:, 0.7596, validation accuracy:, 0.7555\n",
      "Epoch 115 train accuracy:, 0.7602, validation accuracy:, 0.7561\n",
      "Epoch 120 train accuracy:, 0.7604, validation accuracy:, 0.7563\n",
      "Epoch 125 train accuracy:, 0.7608, validation accuracy:, 0.7561\n",
      "Epoch 130 train accuracy:, 0.7609, validation accuracy:, 0.7563\n",
      "Epoch 135 train accuracy:, 0.7614, validation accuracy:, 0.7561\n",
      "Epoch 140 train accuracy:, 0.7616, validation accuracy:, 0.7555\n",
      "Epoch 145 train accuracy:, 0.7619, validation accuracy:, 0.7555\n",
      "Epoch 150 train accuracy:, 0.7621, validation accuracy:, 0.7553\n"
     ]
    }
   ],
   "source": [
    "train_acc_history = []\n",
    "val_acc_history = []\n",
    "\n",
    "for epoch in range(150):\n",
    "\n",
    "    # Training loop\n",
    "    train_acc = 0.0\n",
    "    for batch, (X, y) in enumerate(train_loader):\n",
    "        pred = NN(X) # predict logits\n",
    "        loss = CrossEntropy(pred, y.type(torch.LongTensor)) # compute Cross Entropy loss\n",
    "        loss.backward() # backward pass\n",
    "        optimizer.step() # update step\n",
    "        optimizer.zero_grad()\n",
    "        train_acc += (pred.softmax(dim=1).argmax(dim=1) == y).type(torch.float).sum() / len(train_dataset)\n",
    "    train_acc_history.append(train_acc)\n",
    "\n",
    "    # Validation loop\n",
    "    val_acc = 0.0\n",
    "    with torch.no_grad():\n",
    "        for batch, (X, y) in enumerate(val_loader):\n",
    "            pred = NN(X)\n",
    "            loss = CrossEntropy(pred, y.type(torch.LongTensor))\n",
    "            val_acc += (pred.softmax(dim=1).argmax(dim=1) == y).type(torch.float).sum() / len(val_dataset)\n",
    "        val_acc_history.append(val_acc)\n",
    "\n",
    "    if (epoch + 1) % 5 == 0:\n",
    "        print(f\"Epoch {epoch+1} train accuracy:, {round(float(train_acc), 4)}, validation accuracy:, {round(float(val_acc), 4)}\")"
   ]
  },
  {
   "cell_type": "code",
   "execution_count": 44,
   "id": "cf1c5a0d-c66e-426d-80d5-e182f02a6277",
   "metadata": {},
   "outputs": [
    {
     "data": {
      "image/png": "[encoded data removed]",
      "text/plain": [
       "<Figure size 600x400 with 1 Axes>"
      ]
     },
     "metadata": {},
     "output_type": "display_data"
    }
   ],
   "source": [
    "fig = plt.figure(figsize=(6,4))\n",
    "plt.plot(train_acc_history, label='train')\n",
    "plt.plot(val_acc_history, label='validation')\n",
    "plt.legend()\n",
    "plt.xlabel('Epochs')\n",
    "plt.ylabel('Accuracy')\n",
    "plt.show()"
   ]
  },
  {
   "cell_type": "markdown",
   "id": "2abea264-5b01-4200-b4e6-20ec683ec895",
   "metadata": {},
   "source": [
    "## Train Logistic Regression Model"
   ]
  },
  {
   "cell_type": "code",
   "execution_count": 22,
   "id": "a8a9296e-4e66-4d5b-b440-5e4c6a508bfb",
   "metadata": {},
   "outputs": [
    {
     "name": "stdout",
     "output_type": "stream",
     "text": [
      "train accuracy: 0.736\n",
      "validation accuracy: 0.737\n"
     ]
    }
   ],
   "source": [
    "# Training multi-class logistic regression model\n",
    "logistic = LogisticRegression(max_iter=5000, penalty=None).fit(X_train, y_train)\n",
    "print('train accuracy:', round(logistic.score(X_train, y_train), 3))\n",
    "print('validation accuracy:', round(logistic.score(X_val, y_val), 3))"
   ]
  },
  {
   "cell_type": "markdown",
   "id": "cbf5fd62",
   "metadata": {},
   "source": [
    "||Training Accuracy|Validation Accuracy|\n",
    "|-|-|-|\n",
    "|NN|0.7670|0.7534|\n",
    "|Logistic|0.736|0.737|\n",
    "\n"
   ]
  },
  {
   "cell_type": "markdown",
   "id": "df596948-e089-4f3f-aa53-fa02ac53a673",
   "metadata": {},
   "source": [
    "# Part (ii)"
   ]
  },
  {
   "cell_type": "markdown",
   "id": "bf865d1e-3bdb-40d6-bdc3-cdb762e7b370",
   "metadata": {},
   "source": [
    "## Compare out-of-distribution accuracy"
   ]
  },
  {
   "cell_type": "code",
   "execution_count": 23,
   "id": "0d3d5df9-8f21-40e3-a00a-cc27dde8ee18",
   "metadata": {},
   "outputs": [
    {
     "name": "stdout",
     "output_type": "stream",
     "text": [
      "NN accuracy: 0.658\n",
      "logistic accuracy: 0.703\n"
     ]
    }
   ],
   "source": [
    "# Import under-35 dataset\n",
    "df = pd.read_csv('london_data_35-.csv')\n",
    "y = pd.CategoricalIndex(df.travel_mode).codes\n",
    "X = df.loc[:, df.columns != 'travel_mode'].to_numpy()\n",
    "X = scaler.transform(X)\n",
    "\n",
    "pred = NN(Tensor(X.copy()))\n",
    "acc = (pred.softmax(dim=1).argmax(dim=1) == Tensor(y.copy())).type(torch.float).sum() / X.shape[0]\n",
    "print('NN accuracy:', round(float(acc), 3))\n",
    "print('logistic accuracy:', round(logistic.score(X, y), 3))"
   ]
  },
  {
   "cell_type": "markdown",
   "id": "014dafd7",
   "metadata": {},
   "source": [
    "NN Test Accuracy: 0.658 <br>\n",
    "Logistic Test Accuracy: 0.703 <br>\n",
    "The Logistic model suffered less of a reduction in the accuracy from the covariate shift.\n"
   ]
  },
  {
   "cell_type": "markdown",
   "id": "60f8a9b2-0f8b-4be8-b892-b5255be217bb",
   "metadata": {},
   "source": [
    "# Part (iii)"
   ]
  },
  {
   "cell_type": "code",
   "execution_count": 5,
   "id": "c0eed83c-172d-40fd-a125-d3f0a81dc82b",
   "metadata": {},
   "outputs": [],
   "source": [
    "df = pd.concat([pd.read_csv('london_data_35-.csv'), pd.read_csv('london_data_35-.csv')])\n",
    "y = pd.CategoricalIndex(df.travel_mode).codes\n",
    "X = df.loc[:, df.columns != 'travel_mode'].to_numpy()\n",
    "\n",
    "scaler = StandardScaler()\n",
    "X = scaler.fit_transform(X)\n",
    "\n",
    "X_train, X_val, y_train, y_val = train_test_split(X, y, test_size=0.2, shuffle=True, random_state=42)\n",
    "train_dataset = TensorDataset(Tensor(X_train), Tensor(y_train))\n",
    "val_dataset = TensorDataset(Tensor(X_val), Tensor(y_val))\n",
    "train_loader = DataLoader(train_dataset, batch_size=batch_size, shuffle=True)\n",
    "val_loader = DataLoader(val_dataset, batch_size=batch_size, shuffle=True)"
   ]
  },
  {
   "cell_type": "markdown",
   "id": "6bfd442d-fbd6-4069-8145-f9d062affcf4",
   "metadata": {},
   "source": [
    "## Tune network architecture"
   ]
  },
  {
   "cell_type": "code",
   "execution_count": 6,
   "id": "5575c279-8236-4111-aec4-0d1f4227efbd",
   "metadata": {},
   "outputs": [],
   "source": [
    "# Tune the following neural network architecture\n",
    "class NeuralNetwork(nn.Module):\n",
    "    def __init__(self):\n",
    "        super().__init__()\n",
    "        self.linear_relu_stack = nn.Sequential(\n",
    "            nn.Linear(in_features=22, out_features=1000), \n",
    "            nn.ReLU(),                                   \n",
    "            nn.Linear(in_features=1000, out_features=1000),\n",
    "            nn.ReLU(),                                   \n",
    "            nn.Linear(in_features=1000, out_features=1000),\n",
    "            nn.ReLU(),                                   \n",
    "            nn.Linear(in_features=1000, out_features=4),\n",
    "\n",
    "        )\n",
    "\n",
    "    def forward(self, x):\n",
    "        logits = self.linear_relu_stack(x)\n",
    "        return logits"
   ]
  },
  {
   "cell_type": "markdown",
   "id": "984b9f95-bbea-439b-a64b-f46f33380d52",
   "metadata": {},
   "source": [
    "## Tune learning hyperparameters"
   ]
  },
  {
   "cell_type": "code",
   "execution_count": 26,
   "id": "57691661-368e-4de9-93e1-3c1e1c319c63",
   "metadata": {},
   "outputs": [],
   "source": [
    "lr = .001\n",
    "epochs = 150\n",
    "\n",
    "NN = NeuralNetwork()\n",
    "optimizer = torch.optim.Adam(NN.parameters(), lr=lr)\n",
    "CrossEntropy = nn.CrossEntropyLoss(reduction='mean')"
   ]
  },
  {
   "cell_type": "code",
   "execution_count": 27,
   "id": "93fbdef5-77ff-4801-8bb4-c0ee8f835fa1",
   "metadata": {},
   "outputs": [
    {
     "name": "stdout",
     "output_type": "stream",
     "text": [
      "Epoch 5 train accuracy:, 0.7499, validation accuracy:, 0.7397\n",
      "Epoch 10 train accuracy:, 0.7817, validation accuracy:, 0.7631\n",
      "Epoch 15 train accuracy:, 0.8464, validation accuracy:, 0.8068\n",
      "Epoch 20 train accuracy:, 0.9072, validation accuracy:, 0.8537\n",
      "Epoch 25 train accuracy:, 0.9368, validation accuracy:, 0.8723\n",
      "Epoch 30 train accuracy:, 0.9532, validation accuracy:, 0.8922\n",
      "Epoch 35 train accuracy:, 0.9675, validation accuracy:, 0.9006\n",
      "Epoch 40 train accuracy:, 0.9738, validation accuracy:, 0.9104\n",
      "Epoch 45 train accuracy:, 0.9811, validation accuracy:, 0.9187\n",
      "Epoch 50 train accuracy:, 0.9816, validation accuracy:, 0.9226\n",
      "Epoch 55 train accuracy:, 0.9821, validation accuracy:, 0.9247\n",
      "Epoch 60 train accuracy:, 0.9824, validation accuracy:, 0.9151\n",
      "Epoch 65 train accuracy:, 0.9828, validation accuracy:, 0.9247\n",
      "Epoch 70 train accuracy:, 0.987, validation accuracy:, 0.9232\n",
      "Epoch 75 train accuracy:, 0.9869, validation accuracy:, 0.9271\n",
      "Epoch 80 train accuracy:, 0.9906, validation accuracy:, 0.9305\n",
      "Epoch 85 train accuracy:, 0.9878, validation accuracy:, 0.9236\n",
      "Epoch 90 train accuracy:, 0.989, validation accuracy:, 0.9261\n",
      "Epoch 95 train accuracy:, 0.992, validation accuracy:, 0.9295\n",
      "Epoch 100 train accuracy:, 0.9875, validation accuracy:, 0.9276\n",
      "Epoch 105 train accuracy:, 0.9916, validation accuracy:, 0.9332\n",
      "Epoch 110 train accuracy:, 0.9928, validation accuracy:, 0.9317\n",
      "Epoch 115 train accuracy:, 0.9867, validation accuracy:, 0.9297\n",
      "Epoch 120 train accuracy:, 0.9917, validation accuracy:, 0.9372\n",
      "Epoch 125 train accuracy:, 0.99, validation accuracy:, 0.9296\n",
      "Epoch 130 train accuracy:, 0.99, validation accuracy:, 0.9262\n",
      "Epoch 135 train accuracy:, 0.9928, validation accuracy:, 0.9293\n",
      "Epoch 140 train accuracy:, 0.9937, validation accuracy:, 0.9333\n",
      "Epoch 145 train accuracy:, 0.9943, validation accuracy:, 0.929\n",
      "Epoch 150 train accuracy:, 0.9963, validation accuracy:, 0.9311\n"
     ]
    }
   ],
   "source": [
    "train_acc_history = []\n",
    "val_acc_history = []\n",
    "\n",
    "for epoch in range(150):\n",
    "\n",
    "    # Training loop\n",
    "    train_acc = 0.0\n",
    "    for (X, y) in train_loader:\n",
    "        pred = NN(X) # predict logits\n",
    "        loss = CrossEntropy(pred, y.type(torch.LongTensor)) # compute Cross Entropy loss\n",
    "        loss.backward() # backward pass\n",
    "        optimizer.step() # update step\n",
    "        optimizer.zero_grad()\n",
    "        train_acc += (pred.softmax(dim=1).argmax(dim=1) == y).type(torch.float).sum() / len(train_dataset)\n",
    "    train_acc_history.append(train_acc)\n",
    "\n",
    "    # Validation loop\n",
    "    val_acc = 0.0\n",
    "    with torch.no_grad():\n",
    "        for (X, y) in val_loader:\n",
    "            pred = NN(X)\n",
    "            #loss = CrossEntropy(pred, y.type(torch.LongTensor))\n",
    "            val_acc += (pred.softmax(dim=1).argmax(dim=1) == y).type(torch.float).sum() / len(val_dataset)\n",
    "        val_acc_history.append(val_acc)\n",
    "\n",
    "    if (epoch + 1) % 5 == 0:\n",
    "        print(f\"Epoch {epoch+1} train accuracy:, {round(float(train_acc), 4)}, validation accuracy:, {round(float(val_acc), 4)}\")"
   ]
  },
  {
   "cell_type": "code",
   "execution_count": 28,
   "id": "522b2b41-4023-4cba-8cf5-ee24a27a3867",
   "metadata": {},
   "outputs": [
    {
     "data": {
      "image/png": "[encoded data removed]",
      "text/plain": [
       "<Figure size 600x400 with 1 Axes>"
      ]
     },
     "metadata": {},
     "output_type": "display_data"
    }
   ],
   "source": [
    "fig = plt.figure(figsize=(6,4))\n",
    "plt.plot(train_acc_history, label='train')\n",
    "plt.plot(val_acc_history, label='validation')\n",
    "plt.legend()\n",
    "plt.xlabel('Epochs')\n",
    "plt.ylabel('Accuracy')\n",
    "plt.show()"
   ]
  }
 ],
 "metadata": {
  "kernelspec": {
   "display_name": "Python 3 (ipykernel)",
   "language": "python",
   "name": "python3"
  },
  "language_info": {
   "codemirror_mode": {
    "name": "ipython",
    "version": 3
   },
   "file_extension": ".py",
   "mimetype": "text/x-python",
   "name": "python",
   "nbconvert_exporter": "python",
   "pygments_lexer": "ipython3",
   "version": "3.11.8"
  }
 },
 "nbformat": 4,
 "nbformat_minor": 5
}
