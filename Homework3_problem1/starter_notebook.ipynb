{
 "cells": [
  {
   "cell_type": "code",
   "execution_count": null,
   "metadata": {},
   "outputs": [],
   "source": [
    "import torch\n",
    "import torch.nn as nn\n",
    "from os.path import isfile\n",
    "\n",
    "from config import *\n",
    "from utils import BaselineTrainer, GNNTrainer\n",
    "from gnn import GNNModel\n",
    "from utils import TrafficVolumeDataLoader, TrafficVolumeGraphDataLoader, create_edge_index_and_features\n",
    "\n",
    "%run -i 'preprocess_data.py'"
   ]
  },
  {
   "cell_type": "code",
   "execution_count": null,
   "metadata": {},
   "outputs": [],
   "source": [
    "class BaseLineModel(nn.Module):\n",
    "    def __init__(self):\n",
    "        super().__init__()\n",
    "        input_size = 98\n",
    "        output_size = 95\n",
    "        self.fcnn = nn.Sequential(\n",
    "            # TODO Implement the feedforward neural network here\n",
    "        )\n",
    "\n",
    "    def forward(self, x):\n",
    "        x = self.fcnn(x)\n",
    "        return x"
   ]
  },
  {
   "cell_type": "code",
   "execution_count": 12,
   "metadata": {},
   "outputs": [],
   "source": [
    "config = configs[0]\n",
    "config[\"checkpoint_file\"] = \"checkpoints/NN.pth\"\n",
    "config[\"epochs\"] = 5\n",
    "config_baseline[\"val_per_epoch\"] = 1\n",
    "name = config[\"name\"]\n",
    "lr = config[\"lr\"]\n",
    "batch_size = config[\"batch_size\"]\n",
    "loss_function = nn.L1Loss()\n",
    "\n",
    "device = 'cpu'\n",
    "model = BaseLineModel()\n",
    "train_dataloader = TrafficVolumeDataLoader(train_data_file, batch_size, num_workers, shuffle=True)\n",
    "val_dataloader = TrafficVolumeDataLoader(val_data_file, batch_size, num_workers)\n",
    "test_dataloader = TrafficVolumeDataLoader(test_data_file, batch_size, num_workers)\n",
    "trainer = BaselineTrainer(model, train_dataloader, val_dataloader, test_dataloader, config, loss_function, device)\n",
    "\n",
    "optimizer = torch.optim.Adam(model.parameters(), lr=lr) \n",
    "trainer.train(optimizer)\n",
    "\n",
    "# Evaluate model on test data and compute test loss\n",
    "trainer.evaluate()\n",
    "\n",
    "# Make some prediction and save plot\n",
    "from_index = 500 \n",
    "length = 500\n",
    "trainer.save_prediction_plot(from_index, length)"
   ]
  },
  {
   "cell_type": "code",
   "execution_count": null,
   "metadata": {},
   "outputs": [],
   "source": [
    "config = configs[1]\n",
    "name = config[\"name\"]\n",
    "lr = config[\"lr\"]\n",
    "batch_size = config[\"batch_size\"]\n",
    "loss_function = nn.L1Loss()\n",
    "\n",
    "device = 'cpu'\n",
    "model = GNNModel()\n",
    "edge_index, edge_weight = create_edge_index_and_features(stations_included_file, stations_data_file, graph_file)\n",
    "train_dataloader = TrafficVolumeGraphDataLoader(train_data_file, edge_index, edge_weight, batch_size, num_workers, shuffle=True)\n",
    "val_dataloader = TrafficVolumeGraphDataLoader(val_data_file, edge_index, edge_weight, batch_size, num_workers)\n",
    "test_dataloader = TrafficVolumeGraphDataLoader(test_data_file, edge_index, edge_weight, batch_size, num_workers)\n",
    "trainer = GNNTrainer(model, train_dataloader, val_dataloader, test_dataloader, config, loss_function, device)\n",
    "    \n",
    "trainer.print_model_size()\n",
    "\n",
    "# Evaluate model on test data and compute test loss\n",
    "trainer.evaluate()\n",
    "\n",
    "# Make some prediction and save plot\n",
    "from_index = 500 \n",
    "length = 500\n",
    "trainer.save_prediction_plot(from_index, length)"
   ]
  }
 ],
 "metadata": {
  "kernelspec": {
   "display_name": "Python 3.9.13 ('base')",
   "language": "python",
   "name": "python3"
  },
  "language_info": {
   "codemirror_mode": {
    "name": "ipython",
    "version": 3
   },
   "file_extension": ".py",
   "mimetype": "text/x-python",
   "name": "python",
   "nbconvert_exporter": "python",
   "pygments_lexer": "ipython3",
   "version": "3.9.13"
  },
  "orig_nbformat": 4,
  "vscode": {
   "interpreter": {
    "hash": "3a48c8a50439601a5332e13ffbcbc223a58757a5cda1b19ec954b2b77c56a75d"
   }
  }
 },
 "nbformat": 4,
 "nbformat_minor": 2
}
