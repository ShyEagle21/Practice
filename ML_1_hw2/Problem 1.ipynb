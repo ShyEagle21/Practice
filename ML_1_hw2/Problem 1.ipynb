{
 "cells": [
  {
   "cell_type": "code",
   "execution_count": 1,
   "metadata": {},
   "outputs": [],
   "source": [
    "import pandas as pd\n",
    "import numpy as np\n",
    "import matplotlib.pyplot as plt\n",
    "\n",
    "from sklearn.linear_model import LogisticRegression\n",
    "from sklearn.preprocessing import StandardScaler\n",
    "from sklearn.metrics import accuracy_score, roc_curve, roc_auc_score\n",
    "from sklearn.inspection import DecisionBoundaryDisplay\n",
    "from sklearn.neighbors import KNeighborsClassifier\n",
    "from sklearn.model_selection import GridSearchCV\n",
    "from sklearn.tree import DecisionTreeClassifier, plot_tree"
   ]
  },
  {
   "cell_type": "code",
   "execution_count": 25,
   "metadata": {},
   "outputs": [],
   "source": [
    "def plot_boundaries(model, X, y):\n",
    "    # Plot the decision boundaries given by the model in argument in additions to points (X,y)\n",
    "    fig, ax = plt.subplots()\n",
    "    DecisionBoundaryDisplay.from_estimator(model, X, cmap=plt.cm.coolwarm, alpha=0.8, ax=ax, eps=0.5)\n",
    "    ax.scatter(X[:, 0], X[:, 1], c=y, cmap=plt.cm.coolwarm, s=20, edgecolors='k')\n",
    "    ax.set_ylabel('PS')\n",
    "    ax.set_xlabel('TS')\n",
    "    ax.set_xticks(())\n",
    "    ax.set_yticks(())\n",
    "    plt.show()\n",
    "\n",
    "def plot_ROC_curve(model, X, y, label=\"\"):\n",
    "    # Plot the ROC curve of the model prodided in argument given data (X,y)\n",
    "    y_pred = model.predict_proba(X)[:,1]\n",
    "    fpr, tpr, _ = roc_curve(y, y_pred)\n",
    "    auc = round(roc_auc_score(y, y_pred), 4)\n",
    "    plt.plot(fpr,tpr,'o-', markersize=3, label=label+\", AUC=\"+str(auc))"
   ]
  },
  {
   "cell_type": "code",
   "execution_count": 26,
   "metadata": {},
   "outputs": [],
   "source": [
    "df_train = pd.read_csv(\"data/droughts_train.csv\")\n",
    "df_test = pd.read_csv(\"data/droughts_test.csv\")\n",
    "features = ['PS', 'TS']\n",
    "\n",
    "# Separate data into X (features) and y (target)\n",
    "X_train = df_train[features]\n",
    "y_train = df_train['Drought']\n",
    "X_test = df_test[features]\n",
    "y_test = df_test['Drought']\n",
    "\n",
    "# Convert data to numpy array\n",
    "X_train, X_test, y_train, y_test = map(np.array, [X_train, X_test, y_train, y_test])\n",
    "\n",
    "# Standardize data\n",
    "scaler = StandardScaler()  \n",
    "X_train = scaler.fit_transform(X_train)\n",
    "X_test = scaler.transform(X_test)"
   ]
  },
  {
   "cell_type": "markdown",
   "metadata": {},
   "source": [
    "## Question (a)"
   ]
  },
  {
   "cell_type": "code",
   "execution_count": null,
   "metadata": {},
   "outputs": [],
   "source": []
  },
  {
   "cell_type": "markdown",
   "metadata": {},
   "source": [
    "## Question (b)"
   ]
  },
  {
   "cell_type": "code",
   "execution_count": null,
   "metadata": {},
   "outputs": [],
   "source": []
  },
  {
   "cell_type": "markdown",
   "metadata": {},
   "source": [
    "## Question (c)"
   ]
  },
  {
   "cell_type": "code",
   "execution_count": null,
   "metadata": {},
   "outputs": [],
   "source": []
  },
  {
   "cell_type": "markdown",
   "metadata": {},
   "source": [
    "## Question (d)"
   ]
  },
  {
   "cell_type": "code",
   "execution_count": null,
   "metadata": {},
   "outputs": [],
   "source": []
  },
  {
   "cell_type": "markdown",
   "metadata": {},
   "source": [
    "## Question (e)"
   ]
  },
  {
   "cell_type": "code",
   "execution_count": null,
   "metadata": {},
   "outputs": [],
   "source": []
  },
  {
   "cell_type": "markdown",
   "metadata": {},
   "source": [
    "## Question (f)"
   ]
  },
  {
   "cell_type": "code",
   "execution_count": null,
   "metadata": {},
   "outputs": [],
   "source": []
  },
  {
   "cell_type": "markdown",
   "metadata": {},
   "source": [
    "## Questino (g)"
   ]
  },
  {
   "cell_type": "code",
   "execution_count": null,
   "metadata": {},
   "outputs": [],
   "source": []
  }
 ],
 "metadata": {
  "kernelspec": {
   "display_name": "Python 3.9.13 ('base')",
   "language": "python",
   "name": "python3"
  },
  "language_info": {
   "codemirror_mode": {
    "name": "ipython",
    "version": 3
   },
   "file_extension": ".py",
   "mimetype": "text/x-python",
   "name": "python",
   "nbconvert_exporter": "python",
   "pygments_lexer": "ipython3",
   "version": "3.9.13"
  },
  "orig_nbformat": 4,
  "vscode": {
   "interpreter": {
    "hash": "3a48c8a50439601a5332e13ffbcbc223a58757a5cda1b19ec954b2b77c56a75d"
   }
  }
 },
 "nbformat": 4,
 "nbformat_minor": 2
}
